{
 "cells": [
  {
   "cell_type": "markdown",
   "metadata": {
    "pycharm": {
     "name": "#%% md\n"
    }
   },
   "source": [
    "# Venture Funding with Deep Learning\n",
    "\n",
    "You work as a risk management associate at Alphabet Soup, a venture capital firm. Alphabet Soup’s business team receives many funding applications from startups every day. This team has asked you to help them create a model that predicts whether applicants will be successful if funded by Alphabet Soup.\n",
    "\n",
    "The business team has given you a CSV containing more than 34,000 organizations that have received funding from Alphabet Soup over the years. With your knowledge of machine learning and neural networks, you decide to use the features in the provided dataset to create a binary classifier model that will predict whether an applicant will become a successful business. The CSV file contains a variety of information about these businesses, including whether or not they ultimately became successful.\n",
    "\n",
    "## Instructions:\n",
    "\n",
    "The steps for this challenge are broken out into the following sections:\n",
    "\n",
    "* Prepare the data for use on a neural network model.\n",
    "\n",
    "* Compile and evaluate a binary classification model using a neural network.\n",
    "\n",
    "* Optimize the neural network model.\n",
    "\n",
    "### Prepare the Data for Use on a Neural Network Model \n",
    "\n",
    "Using your knowledge of Pandas and scikit-learn’s `StandardScaler()`, preprocess the dataset so that you can use it to compile and evaluate the neural network model later.\n",
    "\n",
    "Open the starter code file, and complete the following data preparation steps:\n",
    "\n",
    "1. Read the `applicants_data.csv` file into a Pandas DataFrame. Review the DataFrame, looking for categorical variables that will need to be encoded, as well as columns that could eventually define your features and target variables.   \n",
    "\n",
    "2. Drop the “EIN” (Employer Identification Number) and “NAME” columns from the DataFrame, because they are not relevant to the binary classification model.\n",
    " \n",
    "3. Encode the dataset’s categorical variables using `OneHotEncoder`, and then place the encoded variables into a new DataFrame.\n",
    "\n",
    "4. Add the original DataFrame’s numerical variables to the DataFrame containing the encoded variables.\n",
    "\n",
    "> **Note** To complete this step, you will employ the Pandas `concat()` function that was introduced earlier in this course. \n",
    "\n",
    "5. Using the preprocessed data, create the features (`X`) and target (`y`) datasets. The target dataset should be defined by the preprocessed DataFrame column “IS_SUCCESSFUL”. The remaining columns should define the features dataset. \n",
    "\n",
    "6. Split the features and target sets into training and testing datasets.\n",
    "\n",
    "7. Use scikit-learn's `StandardScaler` to scale the features data.\n",
    "\n",
    "### Compile and Evaluate a Binary Classification Model Using a Neural Network\n",
    "\n",
    "Use your knowledge of TensorFlow to design a binary classification deep neural network model. This model should use the dataset’s features to predict whether an Alphabet Soup&ndash;funded startup will be successful based on the features in the dataset. Consider the number of inputs before determining the number of layers that your model will contain or the number of neurons on each layer. Then, compile and fit your model. Finally, evaluate your binary classification model to calculate the model’s loss and accuracy. \n",
    " \n",
    "To do so, complete the following steps:\n",
    "\n",
    "1. Create a deep neural network by assigning the number of input features, the number of layers, and the number of neurons on each layer using Tensorflow’s Keras.\n",
    "\n",
    "> **Hint** You can start with a two-layer deep neural network model that uses the `relu` activation function for both layers.\n",
    "\n",
    "2. Compile and fit the model using the `binary_crossentropy` loss function, the `adam` optimizer, and the `accuracy` evaluation metric.\n",
    "\n",
    "> **Hint** When fitting the model, start with a small number of epochs, such as 20, 50, or 100.\n",
    "\n",
    "3. Evaluate the model using the test data to determine the model’s loss and accuracy.\n",
    "\n",
    "4. Save and export your model to an HDF5 file, and name the file `AlphabetSoup.h5`. \n",
    "\n",
    "### Optimize the Neural Network Model\n",
    "\n",
    "Using your knowledge of TensorFlow and Keras, optimize your model to improve the model's accuracy. Even if you do not successfully achieve a better accuracy, you'll need to demonstrate at least two attempts to optimize the model. You can include these attempts in your existing notebook. Or, you can make copies of the starter notebook in the same folder, rename them, and code each model optimization in a new notebook. \n",
    "\n",
    "> **Note** You will not lose points if your model does not achieve a high accuracy, as long as you make at least two attempts to optimize the model.\n",
    "\n",
    "To do so, complete the following steps:\n",
    "\n",
    "1. Define at least three new deep neural network models (the original plus 2 optimization attempts). With each, try to improve on your first model’s predictive accuracy.\n",
    "\n",
    "> **Rewind** Recall that perfect accuracy has a value of 1, so accuracy improves as its value moves closer to 1. To optimize your model for a predictive accuracy as close to 1 as possible, you can use any or all of the following techniques:\n",
    ">\n",
    "> * Adjust the input data by dropping different features columns to ensure that no variables or outliers confuse the model.\n",
    ">\n",
    "> * Add more neurons (nodes) to a hidden layer.\n",
    ">\n",
    "> * Add more hidden layers.\n",
    ">\n",
    "> * Use different activation functions for the hidden layers.\n",
    ">\n",
    "> * Add to or reduce the number of epochs in the training regimen.\n",
    "\n",
    "2. After finishing your models, display the accuracy scores achieved by each model, and compare the results.\n",
    "\n",
    "3. Save each of your models as an HDF5 file.\n"
   ]
  },
  {
   "cell_type": "code",
   "execution_count": 2,
   "metadata": {
    "pycharm": {
     "name": "#%%\n"
    }
   },
   "outputs": [
    {
     "name": "stderr",
     "output_type": "stream",
     "text": [
      "2022-09-16 21:50:49.416624: I tensorflow/core/platform/cpu_feature_guard.cc:193] This TensorFlow binary is optimized with oneAPI Deep Neural Network Library (oneDNN) to use the following CPU instructions in performance-critical operations:  AVX2 FMA\n",
      "To enable them in other operations, rebuild TensorFlow with the appropriate compiler flags.\n"
     ]
    }
   ],
   "source": [
    "# Imports\n",
    "import pandas as pd\n",
    "from pathlib import Path\n",
    "import tensorflow as tf\n",
    "from tensorflow.keras.layers import Dense\n",
    "from tensorflow.keras.models import Sequential\n",
    "from sklearn.model_selection import train_test_split\n",
    "from sklearn.preprocessing import StandardScaler,OneHotEncoder"
   ]
  },
  {
   "cell_type": "markdown",
   "metadata": {
    "pycharm": {
     "name": "#%% md\n"
    }
   },
   "source": [
    "---\n",
    "\n",
    "## Prepare the data to be used on a neural network model"
   ]
  },
  {
   "cell_type": "markdown",
   "metadata": {
    "pycharm": {
     "name": "#%% md\n"
    }
   },
   "source": [
    "### Step 1: Read the `applicants_data.csv` file into a Pandas DataFrame. Review the DataFrame, looking for categorical variables that will need to be encoded, as well as columns that could eventually define your features and target variables.  \n"
   ]
  },
  {
   "cell_type": "code",
   "execution_count": 3,
   "metadata": {
    "pycharm": {
     "name": "#%%\n"
    }
   },
   "outputs": [
    {
     "data": {
      "text/plain": "             EIN                                               NAME  \\\n0       10520599                       BLUE KNIGHTS MOTORCYCLE CLUB   \n1       10531628             AMERICAN CHESAPEAKE CLUB CHARITABLE TR   \n2       10547893                 ST CLOUD PROFESSIONAL FIREFIGHTERS   \n3       10553066                     SOUTHSIDE ATHLETIC ASSOCIATION   \n4       10556103           GENETIC RESEARCH INSTITUTE OF THE DESERT   \n...          ...                                                ...   \n34294  996009318              THE LIONS CLUB OF HONOLULU KAMEHAMEHA   \n34295  996010315           INTERNATIONAL ASSOCIATION OF LIONS CLUBS   \n34296  996012607                                PTA HAWAII CONGRESS   \n34297  996015768  AMERICAN FEDERATION OF GOVERNMENT EMPLOYEES LO...   \n34298  996086871                           WATERHOUSE CHARITABLE TR   \n\n      APPLICATION_TYPE       AFFILIATION CLASSIFICATION      USE_CASE  \\\n0                  T10       Independent          C1000    ProductDev   \n1                   T3       Independent          C2000  Preservation   \n2                   T5  CompanySponsored          C3000    ProductDev   \n3                   T3  CompanySponsored          C2000  Preservation   \n4                   T3       Independent          C1000     Heathcare   \n...                ...               ...            ...           ...   \n34294               T4       Independent          C1000    ProductDev   \n34295               T4  CompanySponsored          C3000    ProductDev   \n34296               T3  CompanySponsored          C2000  Preservation   \n34297               T5       Independent          C3000    ProductDev   \n34298               T3       Independent          C1000  Preservation   \n\n       ORGANIZATION  STATUS     INCOME_AMT SPECIAL_CONSIDERATIONS   ASK_AMT  \\\n0       Association       1              0                      N      5000   \n1      Co-operative       1         1-9999                      N    108590   \n2       Association       1              0                      N      5000   \n3             Trust       1    10000-24999                      N      6692   \n4             Trust       1  100000-499999                      N    142590   \n...             ...     ...            ...                    ...       ...   \n34294   Association       1              0                      N      5000   \n34295   Association       1              0                      N      5000   \n34296   Association       1              0                      N      5000   \n34297   Association       1              0                      N      5000   \n34298  Co-operative       1          1M-5M                      N  36500179   \n\n       IS_SUCCESSFUL  \n0                  1  \n1                  1  \n2                  0  \n3                  1  \n4                  1  \n...              ...  \n34294              0  \n34295              0  \n34296              0  \n34297              1  \n34298              0  \n\n[34299 rows x 12 columns]",
      "text/html": "<div>\n<style scoped>\n    .dataframe tbody tr th:only-of-type {\n        vertical-align: middle;\n    }\n\n    .dataframe tbody tr th {\n        vertical-align: top;\n    }\n\n    .dataframe thead th {\n        text-align: right;\n    }\n</style>\n<table border=\"1\" class=\"dataframe\">\n  <thead>\n    <tr style=\"text-align: right;\">\n      <th></th>\n      <th>EIN</th>\n      <th>NAME</th>\n      <th>APPLICATION_TYPE</th>\n      <th>AFFILIATION</th>\n      <th>CLASSIFICATION</th>\n      <th>USE_CASE</th>\n      <th>ORGANIZATION</th>\n      <th>STATUS</th>\n      <th>INCOME_AMT</th>\n      <th>SPECIAL_CONSIDERATIONS</th>\n      <th>ASK_AMT</th>\n      <th>IS_SUCCESSFUL</th>\n    </tr>\n  </thead>\n  <tbody>\n    <tr>\n      <th>0</th>\n      <td>10520599</td>\n      <td>BLUE KNIGHTS MOTORCYCLE CLUB</td>\n      <td>T10</td>\n      <td>Independent</td>\n      <td>C1000</td>\n      <td>ProductDev</td>\n      <td>Association</td>\n      <td>1</td>\n      <td>0</td>\n      <td>N</td>\n      <td>5000</td>\n      <td>1</td>\n    </tr>\n    <tr>\n      <th>1</th>\n      <td>10531628</td>\n      <td>AMERICAN CHESAPEAKE CLUB CHARITABLE TR</td>\n      <td>T3</td>\n      <td>Independent</td>\n      <td>C2000</td>\n      <td>Preservation</td>\n      <td>Co-operative</td>\n      <td>1</td>\n      <td>1-9999</td>\n      <td>N</td>\n      <td>108590</td>\n      <td>1</td>\n    </tr>\n    <tr>\n      <th>2</th>\n      <td>10547893</td>\n      <td>ST CLOUD PROFESSIONAL FIREFIGHTERS</td>\n      <td>T5</td>\n      <td>CompanySponsored</td>\n      <td>C3000</td>\n      <td>ProductDev</td>\n      <td>Association</td>\n      <td>1</td>\n      <td>0</td>\n      <td>N</td>\n      <td>5000</td>\n      <td>0</td>\n    </tr>\n    <tr>\n      <th>3</th>\n      <td>10553066</td>\n      <td>SOUTHSIDE ATHLETIC ASSOCIATION</td>\n      <td>T3</td>\n      <td>CompanySponsored</td>\n      <td>C2000</td>\n      <td>Preservation</td>\n      <td>Trust</td>\n      <td>1</td>\n      <td>10000-24999</td>\n      <td>N</td>\n      <td>6692</td>\n      <td>1</td>\n    </tr>\n    <tr>\n      <th>4</th>\n      <td>10556103</td>\n      <td>GENETIC RESEARCH INSTITUTE OF THE DESERT</td>\n      <td>T3</td>\n      <td>Independent</td>\n      <td>C1000</td>\n      <td>Heathcare</td>\n      <td>Trust</td>\n      <td>1</td>\n      <td>100000-499999</td>\n      <td>N</td>\n      <td>142590</td>\n      <td>1</td>\n    </tr>\n    <tr>\n      <th>...</th>\n      <td>...</td>\n      <td>...</td>\n      <td>...</td>\n      <td>...</td>\n      <td>...</td>\n      <td>...</td>\n      <td>...</td>\n      <td>...</td>\n      <td>...</td>\n      <td>...</td>\n      <td>...</td>\n      <td>...</td>\n    </tr>\n    <tr>\n      <th>34294</th>\n      <td>996009318</td>\n      <td>THE LIONS CLUB OF HONOLULU KAMEHAMEHA</td>\n      <td>T4</td>\n      <td>Independent</td>\n      <td>C1000</td>\n      <td>ProductDev</td>\n      <td>Association</td>\n      <td>1</td>\n      <td>0</td>\n      <td>N</td>\n      <td>5000</td>\n      <td>0</td>\n    </tr>\n    <tr>\n      <th>34295</th>\n      <td>996010315</td>\n      <td>INTERNATIONAL ASSOCIATION OF LIONS CLUBS</td>\n      <td>T4</td>\n      <td>CompanySponsored</td>\n      <td>C3000</td>\n      <td>ProductDev</td>\n      <td>Association</td>\n      <td>1</td>\n      <td>0</td>\n      <td>N</td>\n      <td>5000</td>\n      <td>0</td>\n    </tr>\n    <tr>\n      <th>34296</th>\n      <td>996012607</td>\n      <td>PTA HAWAII CONGRESS</td>\n      <td>T3</td>\n      <td>CompanySponsored</td>\n      <td>C2000</td>\n      <td>Preservation</td>\n      <td>Association</td>\n      <td>1</td>\n      <td>0</td>\n      <td>N</td>\n      <td>5000</td>\n      <td>0</td>\n    </tr>\n    <tr>\n      <th>34297</th>\n      <td>996015768</td>\n      <td>AMERICAN FEDERATION OF GOVERNMENT EMPLOYEES LO...</td>\n      <td>T5</td>\n      <td>Independent</td>\n      <td>C3000</td>\n      <td>ProductDev</td>\n      <td>Association</td>\n      <td>1</td>\n      <td>0</td>\n      <td>N</td>\n      <td>5000</td>\n      <td>1</td>\n    </tr>\n    <tr>\n      <th>34298</th>\n      <td>996086871</td>\n      <td>WATERHOUSE CHARITABLE TR</td>\n      <td>T3</td>\n      <td>Independent</td>\n      <td>C1000</td>\n      <td>Preservation</td>\n      <td>Co-operative</td>\n      <td>1</td>\n      <td>1M-5M</td>\n      <td>N</td>\n      <td>36500179</td>\n      <td>0</td>\n    </tr>\n  </tbody>\n</table>\n<p>34299 rows × 12 columns</p>\n</div>"
     },
     "execution_count": 3,
     "metadata": {},
     "output_type": "execute_result"
    }
   ],
   "source": [
    "# Read the applicants_data.csv file from the Resources folder into a Pandas DataFrame\n",
    "applicant_data_df = pd.read_csv('/Users/AbhirMehra/Downloads/Columbia_Bootcamp/Challenges/Challenge 13/Resources/applicants_data.csv')\n",
    "\n",
    "# Review the DataFrame\n",
    "applicant_data_df"
   ]
  },
  {
   "cell_type": "code",
   "execution_count": 4,
   "metadata": {
    "pycharm": {
     "name": "#%%\n"
    }
   },
   "outputs": [
    {
     "name": "stdout",
     "output_type": "stream",
     "text": [
      "<class 'pandas.core.frame.DataFrame'>\n",
      "RangeIndex: 34299 entries, 0 to 34298\n",
      "Data columns (total 12 columns):\n",
      " #   Column                  Non-Null Count  Dtype \n",
      "---  ------                  --------------  ----- \n",
      " 0   EIN                     34299 non-null  int64 \n",
      " 1   NAME                    34299 non-null  object\n",
      " 2   APPLICATION_TYPE        34299 non-null  object\n",
      " 3   AFFILIATION             34299 non-null  object\n",
      " 4   CLASSIFICATION          34299 non-null  object\n",
      " 5   USE_CASE                34299 non-null  object\n",
      " 6   ORGANIZATION            34299 non-null  object\n",
      " 7   STATUS                  34299 non-null  int64 \n",
      " 8   INCOME_AMT              34299 non-null  object\n",
      " 9   SPECIAL_CONSIDERATIONS  34299 non-null  object\n",
      " 10  ASK_AMT                 34299 non-null  int64 \n",
      " 11  IS_SUCCESSFUL           34299 non-null  int64 \n",
      "dtypes: int64(4), object(8)\n",
      "memory usage: 3.1+ MB\n"
     ]
    }
   ],
   "source": [
    "# Review the data types associated with the columns\n",
    "applicant_data_df.info()"
   ]
  },
  {
   "cell_type": "markdown",
   "metadata": {
    "pycharm": {
     "name": "#%% md\n"
    }
   },
   "source": [
    "### Step 2: Drop the “EIN” (Employer Identification Number) and “NAME” columns from the DataFrame, because they are not relevant to the binary classification model."
   ]
  },
  {
   "cell_type": "code",
   "execution_count": 5,
   "metadata": {
    "pycharm": {
     "name": "#%%\n"
    }
   },
   "outputs": [
    {
     "data": {
      "text/plain": "      APPLICATION_TYPE       AFFILIATION CLASSIFICATION      USE_CASE  \\\n0                  T10       Independent          C1000    ProductDev   \n1                   T3       Independent          C2000  Preservation   \n2                   T5  CompanySponsored          C3000    ProductDev   \n3                   T3  CompanySponsored          C2000  Preservation   \n4                   T3       Independent          C1000     Heathcare   \n...                ...               ...            ...           ...   \n34294               T4       Independent          C1000    ProductDev   \n34295               T4  CompanySponsored          C3000    ProductDev   \n34296               T3  CompanySponsored          C2000  Preservation   \n34297               T5       Independent          C3000    ProductDev   \n34298               T3       Independent          C1000  Preservation   \n\n       ORGANIZATION  STATUS     INCOME_AMT SPECIAL_CONSIDERATIONS   ASK_AMT  \\\n0       Association       1              0                      N      5000   \n1      Co-operative       1         1-9999                      N    108590   \n2       Association       1              0                      N      5000   \n3             Trust       1    10000-24999                      N      6692   \n4             Trust       1  100000-499999                      N    142590   \n...             ...     ...            ...                    ...       ...   \n34294   Association       1              0                      N      5000   \n34295   Association       1              0                      N      5000   \n34296   Association       1              0                      N      5000   \n34297   Association       1              0                      N      5000   \n34298  Co-operative       1          1M-5M                      N  36500179   \n\n       IS_SUCCESSFUL  \n0                  1  \n1                  1  \n2                  0  \n3                  1  \n4                  1  \n...              ...  \n34294              0  \n34295              0  \n34296              0  \n34297              1  \n34298              0  \n\n[34299 rows x 10 columns]",
      "text/html": "<div>\n<style scoped>\n    .dataframe tbody tr th:only-of-type {\n        vertical-align: middle;\n    }\n\n    .dataframe tbody tr th {\n        vertical-align: top;\n    }\n\n    .dataframe thead th {\n        text-align: right;\n    }\n</style>\n<table border=\"1\" class=\"dataframe\">\n  <thead>\n    <tr style=\"text-align: right;\">\n      <th></th>\n      <th>APPLICATION_TYPE</th>\n      <th>AFFILIATION</th>\n      <th>CLASSIFICATION</th>\n      <th>USE_CASE</th>\n      <th>ORGANIZATION</th>\n      <th>STATUS</th>\n      <th>INCOME_AMT</th>\n      <th>SPECIAL_CONSIDERATIONS</th>\n      <th>ASK_AMT</th>\n      <th>IS_SUCCESSFUL</th>\n    </tr>\n  </thead>\n  <tbody>\n    <tr>\n      <th>0</th>\n      <td>T10</td>\n      <td>Independent</td>\n      <td>C1000</td>\n      <td>ProductDev</td>\n      <td>Association</td>\n      <td>1</td>\n      <td>0</td>\n      <td>N</td>\n      <td>5000</td>\n      <td>1</td>\n    </tr>\n    <tr>\n      <th>1</th>\n      <td>T3</td>\n      <td>Independent</td>\n      <td>C2000</td>\n      <td>Preservation</td>\n      <td>Co-operative</td>\n      <td>1</td>\n      <td>1-9999</td>\n      <td>N</td>\n      <td>108590</td>\n      <td>1</td>\n    </tr>\n    <tr>\n      <th>2</th>\n      <td>T5</td>\n      <td>CompanySponsored</td>\n      <td>C3000</td>\n      <td>ProductDev</td>\n      <td>Association</td>\n      <td>1</td>\n      <td>0</td>\n      <td>N</td>\n      <td>5000</td>\n      <td>0</td>\n    </tr>\n    <tr>\n      <th>3</th>\n      <td>T3</td>\n      <td>CompanySponsored</td>\n      <td>C2000</td>\n      <td>Preservation</td>\n      <td>Trust</td>\n      <td>1</td>\n      <td>10000-24999</td>\n      <td>N</td>\n      <td>6692</td>\n      <td>1</td>\n    </tr>\n    <tr>\n      <th>4</th>\n      <td>T3</td>\n      <td>Independent</td>\n      <td>C1000</td>\n      <td>Heathcare</td>\n      <td>Trust</td>\n      <td>1</td>\n      <td>100000-499999</td>\n      <td>N</td>\n      <td>142590</td>\n      <td>1</td>\n    </tr>\n    <tr>\n      <th>...</th>\n      <td>...</td>\n      <td>...</td>\n      <td>...</td>\n      <td>...</td>\n      <td>...</td>\n      <td>...</td>\n      <td>...</td>\n      <td>...</td>\n      <td>...</td>\n      <td>...</td>\n    </tr>\n    <tr>\n      <th>34294</th>\n      <td>T4</td>\n      <td>Independent</td>\n      <td>C1000</td>\n      <td>ProductDev</td>\n      <td>Association</td>\n      <td>1</td>\n      <td>0</td>\n      <td>N</td>\n      <td>5000</td>\n      <td>0</td>\n    </tr>\n    <tr>\n      <th>34295</th>\n      <td>T4</td>\n      <td>CompanySponsored</td>\n      <td>C3000</td>\n      <td>ProductDev</td>\n      <td>Association</td>\n      <td>1</td>\n      <td>0</td>\n      <td>N</td>\n      <td>5000</td>\n      <td>0</td>\n    </tr>\n    <tr>\n      <th>34296</th>\n      <td>T3</td>\n      <td>CompanySponsored</td>\n      <td>C2000</td>\n      <td>Preservation</td>\n      <td>Association</td>\n      <td>1</td>\n      <td>0</td>\n      <td>N</td>\n      <td>5000</td>\n      <td>0</td>\n    </tr>\n    <tr>\n      <th>34297</th>\n      <td>T5</td>\n      <td>Independent</td>\n      <td>C3000</td>\n      <td>ProductDev</td>\n      <td>Association</td>\n      <td>1</td>\n      <td>0</td>\n      <td>N</td>\n      <td>5000</td>\n      <td>1</td>\n    </tr>\n    <tr>\n      <th>34298</th>\n      <td>T3</td>\n      <td>Independent</td>\n      <td>C1000</td>\n      <td>Preservation</td>\n      <td>Co-operative</td>\n      <td>1</td>\n      <td>1M-5M</td>\n      <td>N</td>\n      <td>36500179</td>\n      <td>0</td>\n    </tr>\n  </tbody>\n</table>\n<p>34299 rows × 10 columns</p>\n</div>"
     },
     "execution_count": 5,
     "metadata": {},
     "output_type": "execute_result"
    }
   ],
   "source": [
    "# Drop the 'EIN' and 'NAME' columns from the DataFrame\n",
    "applicant_data_df =applicant_data_df.drop(columns=['EIN','NAME'])\n",
    "\n",
    "# Review the DataFrame\n",
    "applicant_data_df"
   ]
  },
  {
   "cell_type": "markdown",
   "metadata": {
    "pycharm": {
     "name": "#%% md\n"
    }
   },
   "source": [
    "### Step 3: Encode the dataset’s categorical variables using `OneHotEncoder`, and then place the encoded variables into a new DataFrame."
   ]
  },
  {
   "cell_type": "code",
   "execution_count": 6,
   "metadata": {
    "pycharm": {
     "name": "#%%\n"
    }
   },
   "outputs": [
    {
     "data": {
      "text/plain": "['APPLICATION_TYPE',\n 'AFFILIATION',\n 'CLASSIFICATION',\n 'USE_CASE',\n 'ORGANIZATION',\n 'INCOME_AMT',\n 'SPECIAL_CONSIDERATIONS']"
     },
     "execution_count": 6,
     "metadata": {},
     "output_type": "execute_result"
    }
   ],
   "source": [
    "# Create a list of categorical variables \n",
    "categorical_variables = list(applicant_data_df.dtypes[applicant_data_df.dtypes == \"object\"].index)\n",
    "\n",
    "\n",
    "# Display the categorical variables list\n",
    "categorical_variables"
   ]
  },
  {
   "cell_type": "code",
   "execution_count": 7,
   "metadata": {
    "pycharm": {
     "name": "#%%\n"
    }
   },
   "outputs": [],
   "source": [
    "# Create a OneHotEncoder instance\n",
    "enc =OneHotEncoder(sparse=False)"
   ]
  },
  {
   "cell_type": "code",
   "execution_count": 8,
   "metadata": {
    "pycharm": {
     "name": "#%%\n"
    }
   },
   "outputs": [],
   "source": [
    "# Encode the categorcal variables using OneHotEncoder\n",
    "encoded_data = enc.fit_transform(applicant_data_df[categorical_variables])"
   ]
  },
  {
   "cell_type": "code",
   "execution_count": 9,
   "metadata": {
    "pycharm": {
     "name": "#%%\n"
    }
   },
   "outputs": [
    {
     "name": "stderr",
     "output_type": "stream",
     "text": [
      "/Library/Frameworks/Python.framework/Versions/3.10/lib/python3.10/site-packages/sklearn/utils/deprecation.py:87: FutureWarning: Function get_feature_names is deprecated; get_feature_names is deprecated in 1.0 and will be removed in 1.2. Please use get_feature_names_out instead.\n",
      "  warnings.warn(msg, category=FutureWarning)\n"
     ]
    },
    {
     "data": {
      "text/plain": "       APPLICATION_TYPE_T10  APPLICATION_TYPE_T12  APPLICATION_TYPE_T13  \\\n0                       1.0                   0.0                   0.0   \n1                       0.0                   0.0                   0.0   \n2                       0.0                   0.0                   0.0   \n3                       0.0                   0.0                   0.0   \n4                       0.0                   0.0                   0.0   \n...                     ...                   ...                   ...   \n34294                   0.0                   0.0                   0.0   \n34295                   0.0                   0.0                   0.0   \n34296                   0.0                   0.0                   0.0   \n34297                   0.0                   0.0                   0.0   \n34298                   0.0                   0.0                   0.0   \n\n       APPLICATION_TYPE_T14  APPLICATION_TYPE_T15  APPLICATION_TYPE_T17  \\\n0                       0.0                   0.0                   0.0   \n1                       0.0                   0.0                   0.0   \n2                       0.0                   0.0                   0.0   \n3                       0.0                   0.0                   0.0   \n4                       0.0                   0.0                   0.0   \n...                     ...                   ...                   ...   \n34294                   0.0                   0.0                   0.0   \n34295                   0.0                   0.0                   0.0   \n34296                   0.0                   0.0                   0.0   \n34297                   0.0                   0.0                   0.0   \n34298                   0.0                   0.0                   0.0   \n\n       APPLICATION_TYPE_T19  APPLICATION_TYPE_T2  APPLICATION_TYPE_T25  \\\n0                       0.0                  0.0                   0.0   \n1                       0.0                  0.0                   0.0   \n2                       0.0                  0.0                   0.0   \n3                       0.0                  0.0                   0.0   \n4                       0.0                  0.0                   0.0   \n...                     ...                  ...                   ...   \n34294                   0.0                  0.0                   0.0   \n34295                   0.0                  0.0                   0.0   \n34296                   0.0                  0.0                   0.0   \n34297                   0.0                  0.0                   0.0   \n34298                   0.0                  0.0                   0.0   \n\n       APPLICATION_TYPE_T29  ...  INCOME_AMT_1-9999  INCOME_AMT_10000-24999  \\\n0                       0.0  ...                0.0                     0.0   \n1                       0.0  ...                1.0                     0.0   \n2                       0.0  ...                0.0                     0.0   \n3                       0.0  ...                0.0                     1.0   \n4                       0.0  ...                0.0                     0.0   \n...                     ...  ...                ...                     ...   \n34294                   0.0  ...                0.0                     0.0   \n34295                   0.0  ...                0.0                     0.0   \n34296                   0.0  ...                0.0                     0.0   \n34297                   0.0  ...                0.0                     0.0   \n34298                   0.0  ...                0.0                     0.0   \n\n       INCOME_AMT_100000-499999  INCOME_AMT_10M-50M  INCOME_AMT_1M-5M  \\\n0                           0.0                 0.0               0.0   \n1                           0.0                 0.0               0.0   \n2                           0.0                 0.0               0.0   \n3                           0.0                 0.0               0.0   \n4                           1.0                 0.0               0.0   \n...                         ...                 ...               ...   \n34294                       0.0                 0.0               0.0   \n34295                       0.0                 0.0               0.0   \n34296                       0.0                 0.0               0.0   \n34297                       0.0                 0.0               0.0   \n34298                       0.0                 0.0               1.0   \n\n       INCOME_AMT_25000-99999  INCOME_AMT_50M+  INCOME_AMT_5M-10M  \\\n0                         0.0              0.0                0.0   \n1                         0.0              0.0                0.0   \n2                         0.0              0.0                0.0   \n3                         0.0              0.0                0.0   \n4                         0.0              0.0                0.0   \n...                       ...              ...                ...   \n34294                     0.0              0.0                0.0   \n34295                     0.0              0.0                0.0   \n34296                     0.0              0.0                0.0   \n34297                     0.0              0.0                0.0   \n34298                     0.0              0.0                0.0   \n\n       SPECIAL_CONSIDERATIONS_N  SPECIAL_CONSIDERATIONS_Y  \n0                           1.0                       0.0  \n1                           1.0                       0.0  \n2                           1.0                       0.0  \n3                           1.0                       0.0  \n4                           1.0                       0.0  \n...                         ...                       ...  \n34294                       1.0                       0.0  \n34295                       1.0                       0.0  \n34296                       1.0                       0.0  \n34297                       1.0                       0.0  \n34298                       1.0                       0.0  \n\n[34299 rows x 114 columns]",
      "text/html": "<div>\n<style scoped>\n    .dataframe tbody tr th:only-of-type {\n        vertical-align: middle;\n    }\n\n    .dataframe tbody tr th {\n        vertical-align: top;\n    }\n\n    .dataframe thead th {\n        text-align: right;\n    }\n</style>\n<table border=\"1\" class=\"dataframe\">\n  <thead>\n    <tr style=\"text-align: right;\">\n      <th></th>\n      <th>APPLICATION_TYPE_T10</th>\n      <th>APPLICATION_TYPE_T12</th>\n      <th>APPLICATION_TYPE_T13</th>\n      <th>APPLICATION_TYPE_T14</th>\n      <th>APPLICATION_TYPE_T15</th>\n      <th>APPLICATION_TYPE_T17</th>\n      <th>APPLICATION_TYPE_T19</th>\n      <th>APPLICATION_TYPE_T2</th>\n      <th>APPLICATION_TYPE_T25</th>\n      <th>APPLICATION_TYPE_T29</th>\n      <th>...</th>\n      <th>INCOME_AMT_1-9999</th>\n      <th>INCOME_AMT_10000-24999</th>\n      <th>INCOME_AMT_100000-499999</th>\n      <th>INCOME_AMT_10M-50M</th>\n      <th>INCOME_AMT_1M-5M</th>\n      <th>INCOME_AMT_25000-99999</th>\n      <th>INCOME_AMT_50M+</th>\n      <th>INCOME_AMT_5M-10M</th>\n      <th>SPECIAL_CONSIDERATIONS_N</th>\n      <th>SPECIAL_CONSIDERATIONS_Y</th>\n    </tr>\n  </thead>\n  <tbody>\n    <tr>\n      <th>0</th>\n      <td>1.0</td>\n      <td>0.0</td>\n      <td>0.0</td>\n      <td>0.0</td>\n      <td>0.0</td>\n      <td>0.0</td>\n      <td>0.0</td>\n      <td>0.0</td>\n      <td>0.0</td>\n      <td>0.0</td>\n      <td>...</td>\n      <td>0.0</td>\n      <td>0.0</td>\n      <td>0.0</td>\n      <td>0.0</td>\n      <td>0.0</td>\n      <td>0.0</td>\n      <td>0.0</td>\n      <td>0.0</td>\n      <td>1.0</td>\n      <td>0.0</td>\n    </tr>\n    <tr>\n      <th>1</th>\n      <td>0.0</td>\n      <td>0.0</td>\n      <td>0.0</td>\n      <td>0.0</td>\n      <td>0.0</td>\n      <td>0.0</td>\n      <td>0.0</td>\n      <td>0.0</td>\n      <td>0.0</td>\n      <td>0.0</td>\n      <td>...</td>\n      <td>1.0</td>\n      <td>0.0</td>\n      <td>0.0</td>\n      <td>0.0</td>\n      <td>0.0</td>\n      <td>0.0</td>\n      <td>0.0</td>\n      <td>0.0</td>\n      <td>1.0</td>\n      <td>0.0</td>\n    </tr>\n    <tr>\n      <th>2</th>\n      <td>0.0</td>\n      <td>0.0</td>\n      <td>0.0</td>\n      <td>0.0</td>\n      <td>0.0</td>\n      <td>0.0</td>\n      <td>0.0</td>\n      <td>0.0</td>\n      <td>0.0</td>\n      <td>0.0</td>\n      <td>...</td>\n      <td>0.0</td>\n      <td>0.0</td>\n      <td>0.0</td>\n      <td>0.0</td>\n      <td>0.0</td>\n      <td>0.0</td>\n      <td>0.0</td>\n      <td>0.0</td>\n      <td>1.0</td>\n      <td>0.0</td>\n    </tr>\n    <tr>\n      <th>3</th>\n      <td>0.0</td>\n      <td>0.0</td>\n      <td>0.0</td>\n      <td>0.0</td>\n      <td>0.0</td>\n      <td>0.0</td>\n      <td>0.0</td>\n      <td>0.0</td>\n      <td>0.0</td>\n      <td>0.0</td>\n      <td>...</td>\n      <td>0.0</td>\n      <td>1.0</td>\n      <td>0.0</td>\n      <td>0.0</td>\n      <td>0.0</td>\n      <td>0.0</td>\n      <td>0.0</td>\n      <td>0.0</td>\n      <td>1.0</td>\n      <td>0.0</td>\n    </tr>\n    <tr>\n      <th>4</th>\n      <td>0.0</td>\n      <td>0.0</td>\n      <td>0.0</td>\n      <td>0.0</td>\n      <td>0.0</td>\n      <td>0.0</td>\n      <td>0.0</td>\n      <td>0.0</td>\n      <td>0.0</td>\n      <td>0.0</td>\n      <td>...</td>\n      <td>0.0</td>\n      <td>0.0</td>\n      <td>1.0</td>\n      <td>0.0</td>\n      <td>0.0</td>\n      <td>0.0</td>\n      <td>0.0</td>\n      <td>0.0</td>\n      <td>1.0</td>\n      <td>0.0</td>\n    </tr>\n    <tr>\n      <th>...</th>\n      <td>...</td>\n      <td>...</td>\n      <td>...</td>\n      <td>...</td>\n      <td>...</td>\n      <td>...</td>\n      <td>...</td>\n      <td>...</td>\n      <td>...</td>\n      <td>...</td>\n      <td>...</td>\n      <td>...</td>\n      <td>...</td>\n      <td>...</td>\n      <td>...</td>\n      <td>...</td>\n      <td>...</td>\n      <td>...</td>\n      <td>...</td>\n      <td>...</td>\n      <td>...</td>\n    </tr>\n    <tr>\n      <th>34294</th>\n      <td>0.0</td>\n      <td>0.0</td>\n      <td>0.0</td>\n      <td>0.0</td>\n      <td>0.0</td>\n      <td>0.0</td>\n      <td>0.0</td>\n      <td>0.0</td>\n      <td>0.0</td>\n      <td>0.0</td>\n      <td>...</td>\n      <td>0.0</td>\n      <td>0.0</td>\n      <td>0.0</td>\n      <td>0.0</td>\n      <td>0.0</td>\n      <td>0.0</td>\n      <td>0.0</td>\n      <td>0.0</td>\n      <td>1.0</td>\n      <td>0.0</td>\n    </tr>\n    <tr>\n      <th>34295</th>\n      <td>0.0</td>\n      <td>0.0</td>\n      <td>0.0</td>\n      <td>0.0</td>\n      <td>0.0</td>\n      <td>0.0</td>\n      <td>0.0</td>\n      <td>0.0</td>\n      <td>0.0</td>\n      <td>0.0</td>\n      <td>...</td>\n      <td>0.0</td>\n      <td>0.0</td>\n      <td>0.0</td>\n      <td>0.0</td>\n      <td>0.0</td>\n      <td>0.0</td>\n      <td>0.0</td>\n      <td>0.0</td>\n      <td>1.0</td>\n      <td>0.0</td>\n    </tr>\n    <tr>\n      <th>34296</th>\n      <td>0.0</td>\n      <td>0.0</td>\n      <td>0.0</td>\n      <td>0.0</td>\n      <td>0.0</td>\n      <td>0.0</td>\n      <td>0.0</td>\n      <td>0.0</td>\n      <td>0.0</td>\n      <td>0.0</td>\n      <td>...</td>\n      <td>0.0</td>\n      <td>0.0</td>\n      <td>0.0</td>\n      <td>0.0</td>\n      <td>0.0</td>\n      <td>0.0</td>\n      <td>0.0</td>\n      <td>0.0</td>\n      <td>1.0</td>\n      <td>0.0</td>\n    </tr>\n    <tr>\n      <th>34297</th>\n      <td>0.0</td>\n      <td>0.0</td>\n      <td>0.0</td>\n      <td>0.0</td>\n      <td>0.0</td>\n      <td>0.0</td>\n      <td>0.0</td>\n      <td>0.0</td>\n      <td>0.0</td>\n      <td>0.0</td>\n      <td>...</td>\n      <td>0.0</td>\n      <td>0.0</td>\n      <td>0.0</td>\n      <td>0.0</td>\n      <td>0.0</td>\n      <td>0.0</td>\n      <td>0.0</td>\n      <td>0.0</td>\n      <td>1.0</td>\n      <td>0.0</td>\n    </tr>\n    <tr>\n      <th>34298</th>\n      <td>0.0</td>\n      <td>0.0</td>\n      <td>0.0</td>\n      <td>0.0</td>\n      <td>0.0</td>\n      <td>0.0</td>\n      <td>0.0</td>\n      <td>0.0</td>\n      <td>0.0</td>\n      <td>0.0</td>\n      <td>...</td>\n      <td>0.0</td>\n      <td>0.0</td>\n      <td>0.0</td>\n      <td>0.0</td>\n      <td>1.0</td>\n      <td>0.0</td>\n      <td>0.0</td>\n      <td>0.0</td>\n      <td>1.0</td>\n      <td>0.0</td>\n    </tr>\n  </tbody>\n</table>\n<p>34299 rows × 114 columns</p>\n</div>"
     },
     "execution_count": 9,
     "metadata": {},
     "output_type": "execute_result"
    }
   ],
   "source": [
    "# Create a DataFrame with the encoded variables\n",
    "encoded_df = pd.DataFrame(encoded_data,columns = enc.get_feature_names(categorical_variables))\n",
    "\n",
    "# Review the DataFrame\n",
    "encoded_df"
   ]
  },
  {
   "cell_type": "markdown",
   "metadata": {
    "pycharm": {
     "name": "#%% md\n"
    }
   },
   "source": [
    "### Step 4: Add the original DataFrame’s numerical variables to the DataFrame containing the encoded variables.\n",
    "\n",
    "> **Note** To complete this step, you will employ the Pandas `concat()` function that was introduced earlier in this course."
   ]
  },
  {
   "cell_type": "code",
   "execution_count": 10,
   "metadata": {
    "pycharm": {
     "name": "#%%\n"
    }
   },
   "outputs": [
    {
     "data": {
      "text/plain": "       STATUS   ASK_AMT  IS_SUCCESSFUL  APPLICATION_TYPE_T10  \\\n0           1      5000              1                   1.0   \n1           1    108590              1                   0.0   \n2           1      5000              0                   0.0   \n3           1      6692              1                   0.0   \n4           1    142590              1                   0.0   \n...       ...       ...            ...                   ...   \n34294       1      5000              0                   0.0   \n34295       1      5000              0                   0.0   \n34296       1      5000              0                   0.0   \n34297       1      5000              1                   0.0   \n34298       1  36500179              0                   0.0   \n\n       APPLICATION_TYPE_T12  APPLICATION_TYPE_T13  APPLICATION_TYPE_T14  \\\n0                       0.0                   0.0                   0.0   \n1                       0.0                   0.0                   0.0   \n2                       0.0                   0.0                   0.0   \n3                       0.0                   0.0                   0.0   \n4                       0.0                   0.0                   0.0   \n...                     ...                   ...                   ...   \n34294                   0.0                   0.0                   0.0   \n34295                   0.0                   0.0                   0.0   \n34296                   0.0                   0.0                   0.0   \n34297                   0.0                   0.0                   0.0   \n34298                   0.0                   0.0                   0.0   \n\n       APPLICATION_TYPE_T15  APPLICATION_TYPE_T17  APPLICATION_TYPE_T19  ...  \\\n0                       0.0                   0.0                   0.0  ...   \n1                       0.0                   0.0                   0.0  ...   \n2                       0.0                   0.0                   0.0  ...   \n3                       0.0                   0.0                   0.0  ...   \n4                       0.0                   0.0                   0.0  ...   \n...                     ...                   ...                   ...  ...   \n34294                   0.0                   0.0                   0.0  ...   \n34295                   0.0                   0.0                   0.0  ...   \n34296                   0.0                   0.0                   0.0  ...   \n34297                   0.0                   0.0                   0.0  ...   \n34298                   0.0                   0.0                   0.0  ...   \n\n       INCOME_AMT_1-9999  INCOME_AMT_10000-24999  INCOME_AMT_100000-499999  \\\n0                    0.0                     0.0                       0.0   \n1                    1.0                     0.0                       0.0   \n2                    0.0                     0.0                       0.0   \n3                    0.0                     1.0                       0.0   \n4                    0.0                     0.0                       1.0   \n...                  ...                     ...                       ...   \n34294                0.0                     0.0                       0.0   \n34295                0.0                     0.0                       0.0   \n34296                0.0                     0.0                       0.0   \n34297                0.0                     0.0                       0.0   \n34298                0.0                     0.0                       0.0   \n\n       INCOME_AMT_10M-50M  INCOME_AMT_1M-5M  INCOME_AMT_25000-99999  \\\n0                     0.0               0.0                     0.0   \n1                     0.0               0.0                     0.0   \n2                     0.0               0.0                     0.0   \n3                     0.0               0.0                     0.0   \n4                     0.0               0.0                     0.0   \n...                   ...               ...                     ...   \n34294                 0.0               0.0                     0.0   \n34295                 0.0               0.0                     0.0   \n34296                 0.0               0.0                     0.0   \n34297                 0.0               0.0                     0.0   \n34298                 0.0               1.0                     0.0   \n\n       INCOME_AMT_50M+  INCOME_AMT_5M-10M  SPECIAL_CONSIDERATIONS_N  \\\n0                  0.0                0.0                       1.0   \n1                  0.0                0.0                       1.0   \n2                  0.0                0.0                       1.0   \n3                  0.0                0.0                       1.0   \n4                  0.0                0.0                       1.0   \n...                ...                ...                       ...   \n34294              0.0                0.0                       1.0   \n34295              0.0                0.0                       1.0   \n34296              0.0                0.0                       1.0   \n34297              0.0                0.0                       1.0   \n34298              0.0                0.0                       1.0   \n\n       SPECIAL_CONSIDERATIONS_Y  \n0                           0.0  \n1                           0.0  \n2                           0.0  \n3                           0.0  \n4                           0.0  \n...                         ...  \n34294                       0.0  \n34295                       0.0  \n34296                       0.0  \n34297                       0.0  \n34298                       0.0  \n\n[34299 rows x 117 columns]",
      "text/html": "<div>\n<style scoped>\n    .dataframe tbody tr th:only-of-type {\n        vertical-align: middle;\n    }\n\n    .dataframe tbody tr th {\n        vertical-align: top;\n    }\n\n    .dataframe thead th {\n        text-align: right;\n    }\n</style>\n<table border=\"1\" class=\"dataframe\">\n  <thead>\n    <tr style=\"text-align: right;\">\n      <th></th>\n      <th>STATUS</th>\n      <th>ASK_AMT</th>\n      <th>IS_SUCCESSFUL</th>\n      <th>APPLICATION_TYPE_T10</th>\n      <th>APPLICATION_TYPE_T12</th>\n      <th>APPLICATION_TYPE_T13</th>\n      <th>APPLICATION_TYPE_T14</th>\n      <th>APPLICATION_TYPE_T15</th>\n      <th>APPLICATION_TYPE_T17</th>\n      <th>APPLICATION_TYPE_T19</th>\n      <th>...</th>\n      <th>INCOME_AMT_1-9999</th>\n      <th>INCOME_AMT_10000-24999</th>\n      <th>INCOME_AMT_100000-499999</th>\n      <th>INCOME_AMT_10M-50M</th>\n      <th>INCOME_AMT_1M-5M</th>\n      <th>INCOME_AMT_25000-99999</th>\n      <th>INCOME_AMT_50M+</th>\n      <th>INCOME_AMT_5M-10M</th>\n      <th>SPECIAL_CONSIDERATIONS_N</th>\n      <th>SPECIAL_CONSIDERATIONS_Y</th>\n    </tr>\n  </thead>\n  <tbody>\n    <tr>\n      <th>0</th>\n      <td>1</td>\n      <td>5000</td>\n      <td>1</td>\n      <td>1.0</td>\n      <td>0.0</td>\n      <td>0.0</td>\n      <td>0.0</td>\n      <td>0.0</td>\n      <td>0.0</td>\n      <td>0.0</td>\n      <td>...</td>\n      <td>0.0</td>\n      <td>0.0</td>\n      <td>0.0</td>\n      <td>0.0</td>\n      <td>0.0</td>\n      <td>0.0</td>\n      <td>0.0</td>\n      <td>0.0</td>\n      <td>1.0</td>\n      <td>0.0</td>\n    </tr>\n    <tr>\n      <th>1</th>\n      <td>1</td>\n      <td>108590</td>\n      <td>1</td>\n      <td>0.0</td>\n      <td>0.0</td>\n      <td>0.0</td>\n      <td>0.0</td>\n      <td>0.0</td>\n      <td>0.0</td>\n      <td>0.0</td>\n      <td>...</td>\n      <td>1.0</td>\n      <td>0.0</td>\n      <td>0.0</td>\n      <td>0.0</td>\n      <td>0.0</td>\n      <td>0.0</td>\n      <td>0.0</td>\n      <td>0.0</td>\n      <td>1.0</td>\n      <td>0.0</td>\n    </tr>\n    <tr>\n      <th>2</th>\n      <td>1</td>\n      <td>5000</td>\n      <td>0</td>\n      <td>0.0</td>\n      <td>0.0</td>\n      <td>0.0</td>\n      <td>0.0</td>\n      <td>0.0</td>\n      <td>0.0</td>\n      <td>0.0</td>\n      <td>...</td>\n      <td>0.0</td>\n      <td>0.0</td>\n      <td>0.0</td>\n      <td>0.0</td>\n      <td>0.0</td>\n      <td>0.0</td>\n      <td>0.0</td>\n      <td>0.0</td>\n      <td>1.0</td>\n      <td>0.0</td>\n    </tr>\n    <tr>\n      <th>3</th>\n      <td>1</td>\n      <td>6692</td>\n      <td>1</td>\n      <td>0.0</td>\n      <td>0.0</td>\n      <td>0.0</td>\n      <td>0.0</td>\n      <td>0.0</td>\n      <td>0.0</td>\n      <td>0.0</td>\n      <td>...</td>\n      <td>0.0</td>\n      <td>1.0</td>\n      <td>0.0</td>\n      <td>0.0</td>\n      <td>0.0</td>\n      <td>0.0</td>\n      <td>0.0</td>\n      <td>0.0</td>\n      <td>1.0</td>\n      <td>0.0</td>\n    </tr>\n    <tr>\n      <th>4</th>\n      <td>1</td>\n      <td>142590</td>\n      <td>1</td>\n      <td>0.0</td>\n      <td>0.0</td>\n      <td>0.0</td>\n      <td>0.0</td>\n      <td>0.0</td>\n      <td>0.0</td>\n      <td>0.0</td>\n      <td>...</td>\n      <td>0.0</td>\n      <td>0.0</td>\n      <td>1.0</td>\n      <td>0.0</td>\n      <td>0.0</td>\n      <td>0.0</td>\n      <td>0.0</td>\n      <td>0.0</td>\n      <td>1.0</td>\n      <td>0.0</td>\n    </tr>\n    <tr>\n      <th>...</th>\n      <td>...</td>\n      <td>...</td>\n      <td>...</td>\n      <td>...</td>\n      <td>...</td>\n      <td>...</td>\n      <td>...</td>\n      <td>...</td>\n      <td>...</td>\n      <td>...</td>\n      <td>...</td>\n      <td>...</td>\n      <td>...</td>\n      <td>...</td>\n      <td>...</td>\n      <td>...</td>\n      <td>...</td>\n      <td>...</td>\n      <td>...</td>\n      <td>...</td>\n      <td>...</td>\n    </tr>\n    <tr>\n      <th>34294</th>\n      <td>1</td>\n      <td>5000</td>\n      <td>0</td>\n      <td>0.0</td>\n      <td>0.0</td>\n      <td>0.0</td>\n      <td>0.0</td>\n      <td>0.0</td>\n      <td>0.0</td>\n      <td>0.0</td>\n      <td>...</td>\n      <td>0.0</td>\n      <td>0.0</td>\n      <td>0.0</td>\n      <td>0.0</td>\n      <td>0.0</td>\n      <td>0.0</td>\n      <td>0.0</td>\n      <td>0.0</td>\n      <td>1.0</td>\n      <td>0.0</td>\n    </tr>\n    <tr>\n      <th>34295</th>\n      <td>1</td>\n      <td>5000</td>\n      <td>0</td>\n      <td>0.0</td>\n      <td>0.0</td>\n      <td>0.0</td>\n      <td>0.0</td>\n      <td>0.0</td>\n      <td>0.0</td>\n      <td>0.0</td>\n      <td>...</td>\n      <td>0.0</td>\n      <td>0.0</td>\n      <td>0.0</td>\n      <td>0.0</td>\n      <td>0.0</td>\n      <td>0.0</td>\n      <td>0.0</td>\n      <td>0.0</td>\n      <td>1.0</td>\n      <td>0.0</td>\n    </tr>\n    <tr>\n      <th>34296</th>\n      <td>1</td>\n      <td>5000</td>\n      <td>0</td>\n      <td>0.0</td>\n      <td>0.0</td>\n      <td>0.0</td>\n      <td>0.0</td>\n      <td>0.0</td>\n      <td>0.0</td>\n      <td>0.0</td>\n      <td>...</td>\n      <td>0.0</td>\n      <td>0.0</td>\n      <td>0.0</td>\n      <td>0.0</td>\n      <td>0.0</td>\n      <td>0.0</td>\n      <td>0.0</td>\n      <td>0.0</td>\n      <td>1.0</td>\n      <td>0.0</td>\n    </tr>\n    <tr>\n      <th>34297</th>\n      <td>1</td>\n      <td>5000</td>\n      <td>1</td>\n      <td>0.0</td>\n      <td>0.0</td>\n      <td>0.0</td>\n      <td>0.0</td>\n      <td>0.0</td>\n      <td>0.0</td>\n      <td>0.0</td>\n      <td>...</td>\n      <td>0.0</td>\n      <td>0.0</td>\n      <td>0.0</td>\n      <td>0.0</td>\n      <td>0.0</td>\n      <td>0.0</td>\n      <td>0.0</td>\n      <td>0.0</td>\n      <td>1.0</td>\n      <td>0.0</td>\n    </tr>\n    <tr>\n      <th>34298</th>\n      <td>1</td>\n      <td>36500179</td>\n      <td>0</td>\n      <td>0.0</td>\n      <td>0.0</td>\n      <td>0.0</td>\n      <td>0.0</td>\n      <td>0.0</td>\n      <td>0.0</td>\n      <td>0.0</td>\n      <td>...</td>\n      <td>0.0</td>\n      <td>0.0</td>\n      <td>0.0</td>\n      <td>0.0</td>\n      <td>1.0</td>\n      <td>0.0</td>\n      <td>0.0</td>\n      <td>0.0</td>\n      <td>1.0</td>\n      <td>0.0</td>\n    </tr>\n  </tbody>\n</table>\n<p>34299 rows × 117 columns</p>\n</div>"
     },
     "execution_count": 10,
     "metadata": {},
     "output_type": "execute_result"
    }
   ],
   "source": [
    "# Add the numerical variables from the original DataFrame to the one-hot encoding DataFrame\n",
    "encoded_df = pd.concat([applicant_data_df.drop(columns=categorical_variables),encoded_df],axis=1)\n",
    "\n",
    "# Review the Dataframe\n",
    "encoded_df"
   ]
  },
  {
   "cell_type": "markdown",
   "metadata": {
    "pycharm": {
     "name": "#%% md\n"
    }
   },
   "source": [
    "### Step 5: Using the preprocessed data, create the features (`X`) and target (`y`) datasets. The target dataset should be defined by the preprocessed DataFrame column “IS_SUCCESSFUL”. The remaining columns should define the features dataset. \n",
    "\n"
   ]
  },
  {
   "cell_type": "code",
   "execution_count": 11,
   "metadata": {
    "pycharm": {
     "name": "#%%\n"
    }
   },
   "outputs": [
    {
     "data": {
      "text/plain": "0        1\n1        1\n2        0\n3        1\n4        1\n        ..\n34294    0\n34295    0\n34296    0\n34297    1\n34298    0\nName: IS_SUCCESSFUL, Length: 34299, dtype: int64"
     },
     "execution_count": 11,
     "metadata": {},
     "output_type": "execute_result"
    }
   ],
   "source": [
    "# Define the target set y using the IS_SUCCESSFUL column\n",
    "y = encoded_df['IS_SUCCESSFUL']\n",
    "\n",
    "# Display a sample of y\n",
    "y"
   ]
  },
  {
   "cell_type": "code",
   "execution_count": 12,
   "metadata": {
    "pycharm": {
     "name": "#%%\n"
    }
   },
   "outputs": [
    {
     "data": {
      "text/plain": "       STATUS   ASK_AMT  APPLICATION_TYPE_T10  APPLICATION_TYPE_T12  \\\n0           1      5000                   1.0                   0.0   \n1           1    108590                   0.0                   0.0   \n2           1      5000                   0.0                   0.0   \n3           1      6692                   0.0                   0.0   \n4           1    142590                   0.0                   0.0   \n...       ...       ...                   ...                   ...   \n34294       1      5000                   0.0                   0.0   \n34295       1      5000                   0.0                   0.0   \n34296       1      5000                   0.0                   0.0   \n34297       1      5000                   0.0                   0.0   \n34298       1  36500179                   0.0                   0.0   \n\n       APPLICATION_TYPE_T13  APPLICATION_TYPE_T14  APPLICATION_TYPE_T15  \\\n0                       0.0                   0.0                   0.0   \n1                       0.0                   0.0                   0.0   \n2                       0.0                   0.0                   0.0   \n3                       0.0                   0.0                   0.0   \n4                       0.0                   0.0                   0.0   \n...                     ...                   ...                   ...   \n34294                   0.0                   0.0                   0.0   \n34295                   0.0                   0.0                   0.0   \n34296                   0.0                   0.0                   0.0   \n34297                   0.0                   0.0                   0.0   \n34298                   0.0                   0.0                   0.0   \n\n       APPLICATION_TYPE_T17  APPLICATION_TYPE_T19  APPLICATION_TYPE_T2  ...  \\\n0                       0.0                   0.0                  0.0  ...   \n1                       0.0                   0.0                  0.0  ...   \n2                       0.0                   0.0                  0.0  ...   \n3                       0.0                   0.0                  0.0  ...   \n4                       0.0                   0.0                  0.0  ...   \n...                     ...                   ...                  ...  ...   \n34294                   0.0                   0.0                  0.0  ...   \n34295                   0.0                   0.0                  0.0  ...   \n34296                   0.0                   0.0                  0.0  ...   \n34297                   0.0                   0.0                  0.0  ...   \n34298                   0.0                   0.0                  0.0  ...   \n\n       INCOME_AMT_1-9999  INCOME_AMT_10000-24999  INCOME_AMT_100000-499999  \\\n0                    0.0                     0.0                       0.0   \n1                    1.0                     0.0                       0.0   \n2                    0.0                     0.0                       0.0   \n3                    0.0                     1.0                       0.0   \n4                    0.0                     0.0                       1.0   \n...                  ...                     ...                       ...   \n34294                0.0                     0.0                       0.0   \n34295                0.0                     0.0                       0.0   \n34296                0.0                     0.0                       0.0   \n34297                0.0                     0.0                       0.0   \n34298                0.0                     0.0                       0.0   \n\n       INCOME_AMT_10M-50M  INCOME_AMT_1M-5M  INCOME_AMT_25000-99999  \\\n0                     0.0               0.0                     0.0   \n1                     0.0               0.0                     0.0   \n2                     0.0               0.0                     0.0   \n3                     0.0               0.0                     0.0   \n4                     0.0               0.0                     0.0   \n...                   ...               ...                     ...   \n34294                 0.0               0.0                     0.0   \n34295                 0.0               0.0                     0.0   \n34296                 0.0               0.0                     0.0   \n34297                 0.0               0.0                     0.0   \n34298                 0.0               1.0                     0.0   \n\n       INCOME_AMT_50M+  INCOME_AMT_5M-10M  SPECIAL_CONSIDERATIONS_N  \\\n0                  0.0                0.0                       1.0   \n1                  0.0                0.0                       1.0   \n2                  0.0                0.0                       1.0   \n3                  0.0                0.0                       1.0   \n4                  0.0                0.0                       1.0   \n...                ...                ...                       ...   \n34294              0.0                0.0                       1.0   \n34295              0.0                0.0                       1.0   \n34296              0.0                0.0                       1.0   \n34297              0.0                0.0                       1.0   \n34298              0.0                0.0                       1.0   \n\n       SPECIAL_CONSIDERATIONS_Y  \n0                           0.0  \n1                           0.0  \n2                           0.0  \n3                           0.0  \n4                           0.0  \n...                         ...  \n34294                       0.0  \n34295                       0.0  \n34296                       0.0  \n34297                       0.0  \n34298                       0.0  \n\n[34299 rows x 116 columns]",
      "text/html": "<div>\n<style scoped>\n    .dataframe tbody tr th:only-of-type {\n        vertical-align: middle;\n    }\n\n    .dataframe tbody tr th {\n        vertical-align: top;\n    }\n\n    .dataframe thead th {\n        text-align: right;\n    }\n</style>\n<table border=\"1\" class=\"dataframe\">\n  <thead>\n    <tr style=\"text-align: right;\">\n      <th></th>\n      <th>STATUS</th>\n      <th>ASK_AMT</th>\n      <th>APPLICATION_TYPE_T10</th>\n      <th>APPLICATION_TYPE_T12</th>\n      <th>APPLICATION_TYPE_T13</th>\n      <th>APPLICATION_TYPE_T14</th>\n      <th>APPLICATION_TYPE_T15</th>\n      <th>APPLICATION_TYPE_T17</th>\n      <th>APPLICATION_TYPE_T19</th>\n      <th>APPLICATION_TYPE_T2</th>\n      <th>...</th>\n      <th>INCOME_AMT_1-9999</th>\n      <th>INCOME_AMT_10000-24999</th>\n      <th>INCOME_AMT_100000-499999</th>\n      <th>INCOME_AMT_10M-50M</th>\n      <th>INCOME_AMT_1M-5M</th>\n      <th>INCOME_AMT_25000-99999</th>\n      <th>INCOME_AMT_50M+</th>\n      <th>INCOME_AMT_5M-10M</th>\n      <th>SPECIAL_CONSIDERATIONS_N</th>\n      <th>SPECIAL_CONSIDERATIONS_Y</th>\n    </tr>\n  </thead>\n  <tbody>\n    <tr>\n      <th>0</th>\n      <td>1</td>\n      <td>5000</td>\n      <td>1.0</td>\n      <td>0.0</td>\n      <td>0.0</td>\n      <td>0.0</td>\n      <td>0.0</td>\n      <td>0.0</td>\n      <td>0.0</td>\n      <td>0.0</td>\n      <td>...</td>\n      <td>0.0</td>\n      <td>0.0</td>\n      <td>0.0</td>\n      <td>0.0</td>\n      <td>0.0</td>\n      <td>0.0</td>\n      <td>0.0</td>\n      <td>0.0</td>\n      <td>1.0</td>\n      <td>0.0</td>\n    </tr>\n    <tr>\n      <th>1</th>\n      <td>1</td>\n      <td>108590</td>\n      <td>0.0</td>\n      <td>0.0</td>\n      <td>0.0</td>\n      <td>0.0</td>\n      <td>0.0</td>\n      <td>0.0</td>\n      <td>0.0</td>\n      <td>0.0</td>\n      <td>...</td>\n      <td>1.0</td>\n      <td>0.0</td>\n      <td>0.0</td>\n      <td>0.0</td>\n      <td>0.0</td>\n      <td>0.0</td>\n      <td>0.0</td>\n      <td>0.0</td>\n      <td>1.0</td>\n      <td>0.0</td>\n    </tr>\n    <tr>\n      <th>2</th>\n      <td>1</td>\n      <td>5000</td>\n      <td>0.0</td>\n      <td>0.0</td>\n      <td>0.0</td>\n      <td>0.0</td>\n      <td>0.0</td>\n      <td>0.0</td>\n      <td>0.0</td>\n      <td>0.0</td>\n      <td>...</td>\n      <td>0.0</td>\n      <td>0.0</td>\n      <td>0.0</td>\n      <td>0.0</td>\n      <td>0.0</td>\n      <td>0.0</td>\n      <td>0.0</td>\n      <td>0.0</td>\n      <td>1.0</td>\n      <td>0.0</td>\n    </tr>\n    <tr>\n      <th>3</th>\n      <td>1</td>\n      <td>6692</td>\n      <td>0.0</td>\n      <td>0.0</td>\n      <td>0.0</td>\n      <td>0.0</td>\n      <td>0.0</td>\n      <td>0.0</td>\n      <td>0.0</td>\n      <td>0.0</td>\n      <td>...</td>\n      <td>0.0</td>\n      <td>1.0</td>\n      <td>0.0</td>\n      <td>0.0</td>\n      <td>0.0</td>\n      <td>0.0</td>\n      <td>0.0</td>\n      <td>0.0</td>\n      <td>1.0</td>\n      <td>0.0</td>\n    </tr>\n    <tr>\n      <th>4</th>\n      <td>1</td>\n      <td>142590</td>\n      <td>0.0</td>\n      <td>0.0</td>\n      <td>0.0</td>\n      <td>0.0</td>\n      <td>0.0</td>\n      <td>0.0</td>\n      <td>0.0</td>\n      <td>0.0</td>\n      <td>...</td>\n      <td>0.0</td>\n      <td>0.0</td>\n      <td>1.0</td>\n      <td>0.0</td>\n      <td>0.0</td>\n      <td>0.0</td>\n      <td>0.0</td>\n      <td>0.0</td>\n      <td>1.0</td>\n      <td>0.0</td>\n    </tr>\n    <tr>\n      <th>...</th>\n      <td>...</td>\n      <td>...</td>\n      <td>...</td>\n      <td>...</td>\n      <td>...</td>\n      <td>...</td>\n      <td>...</td>\n      <td>...</td>\n      <td>...</td>\n      <td>...</td>\n      <td>...</td>\n      <td>...</td>\n      <td>...</td>\n      <td>...</td>\n      <td>...</td>\n      <td>...</td>\n      <td>...</td>\n      <td>...</td>\n      <td>...</td>\n      <td>...</td>\n      <td>...</td>\n    </tr>\n    <tr>\n      <th>34294</th>\n      <td>1</td>\n      <td>5000</td>\n      <td>0.0</td>\n      <td>0.0</td>\n      <td>0.0</td>\n      <td>0.0</td>\n      <td>0.0</td>\n      <td>0.0</td>\n      <td>0.0</td>\n      <td>0.0</td>\n      <td>...</td>\n      <td>0.0</td>\n      <td>0.0</td>\n      <td>0.0</td>\n      <td>0.0</td>\n      <td>0.0</td>\n      <td>0.0</td>\n      <td>0.0</td>\n      <td>0.0</td>\n      <td>1.0</td>\n      <td>0.0</td>\n    </tr>\n    <tr>\n      <th>34295</th>\n      <td>1</td>\n      <td>5000</td>\n      <td>0.0</td>\n      <td>0.0</td>\n      <td>0.0</td>\n      <td>0.0</td>\n      <td>0.0</td>\n      <td>0.0</td>\n      <td>0.0</td>\n      <td>0.0</td>\n      <td>...</td>\n      <td>0.0</td>\n      <td>0.0</td>\n      <td>0.0</td>\n      <td>0.0</td>\n      <td>0.0</td>\n      <td>0.0</td>\n      <td>0.0</td>\n      <td>0.0</td>\n      <td>1.0</td>\n      <td>0.0</td>\n    </tr>\n    <tr>\n      <th>34296</th>\n      <td>1</td>\n      <td>5000</td>\n      <td>0.0</td>\n      <td>0.0</td>\n      <td>0.0</td>\n      <td>0.0</td>\n      <td>0.0</td>\n      <td>0.0</td>\n      <td>0.0</td>\n      <td>0.0</td>\n      <td>...</td>\n      <td>0.0</td>\n      <td>0.0</td>\n      <td>0.0</td>\n      <td>0.0</td>\n      <td>0.0</td>\n      <td>0.0</td>\n      <td>0.0</td>\n      <td>0.0</td>\n      <td>1.0</td>\n      <td>0.0</td>\n    </tr>\n    <tr>\n      <th>34297</th>\n      <td>1</td>\n      <td>5000</td>\n      <td>0.0</td>\n      <td>0.0</td>\n      <td>0.0</td>\n      <td>0.0</td>\n      <td>0.0</td>\n      <td>0.0</td>\n      <td>0.0</td>\n      <td>0.0</td>\n      <td>...</td>\n      <td>0.0</td>\n      <td>0.0</td>\n      <td>0.0</td>\n      <td>0.0</td>\n      <td>0.0</td>\n      <td>0.0</td>\n      <td>0.0</td>\n      <td>0.0</td>\n      <td>1.0</td>\n      <td>0.0</td>\n    </tr>\n    <tr>\n      <th>34298</th>\n      <td>1</td>\n      <td>36500179</td>\n      <td>0.0</td>\n      <td>0.0</td>\n      <td>0.0</td>\n      <td>0.0</td>\n      <td>0.0</td>\n      <td>0.0</td>\n      <td>0.0</td>\n      <td>0.0</td>\n      <td>...</td>\n      <td>0.0</td>\n      <td>0.0</td>\n      <td>0.0</td>\n      <td>0.0</td>\n      <td>1.0</td>\n      <td>0.0</td>\n      <td>0.0</td>\n      <td>0.0</td>\n      <td>1.0</td>\n      <td>0.0</td>\n    </tr>\n  </tbody>\n</table>\n<p>34299 rows × 116 columns</p>\n</div>"
     },
     "execution_count": 12,
     "metadata": {},
     "output_type": "execute_result"
    }
   ],
   "source": [
    "# Define features set X by selecting all columns but IS_SUCCESSFUL\n",
    "X = encoded_df.drop(columns='IS_SUCCESSFUL')\n",
    "\n",
    "# Review the features DataFrame\n",
    "X"
   ]
  },
  {
   "cell_type": "markdown",
   "metadata": {
    "pycharm": {
     "name": "#%% md\n"
    }
   },
   "source": [
    "### Step 6: Split the features and target sets into training and testing datasets.\n"
   ]
  },
  {
   "cell_type": "code",
   "execution_count": 13,
   "metadata": {
    "pycharm": {
     "name": "#%%\n"
    }
   },
   "outputs": [],
   "source": [
    "# Split the preprocessed data into a training and testing dataset\n",
    "# Assign the function a random_state equal to 1\n",
    "X_train, X_test, y_train, y_test = train_test_split(X, y, random_state=1)"
   ]
  },
  {
   "cell_type": "markdown",
   "metadata": {
    "pycharm": {
     "name": "#%% md\n"
    }
   },
   "source": [
    "### Step 7: Use scikit-learn's `StandardScaler` to scale the features data."
   ]
  },
  {
   "cell_type": "code",
   "execution_count": 14,
   "metadata": {
    "pycharm": {
     "name": "#%%\n"
    }
   },
   "outputs": [],
   "source": [
    "# Create a StandardScaler instance\n",
    "scaler =  StandardScaler()\n",
    "\n",
    "# Fit the scaler to the features training dataset\n",
    "X_scaler = scaler.fit(X_train)\n",
    "\n",
    "# Fit the scaler to the features training dataset\n",
    "X_train_scaled = scaler.transform(X_train)\n",
    "X_test_scaled = scaler.transform(X_test)"
   ]
  },
  {
   "cell_type": "markdown",
   "metadata": {
    "pycharm": {
     "name": "#%% md\n"
    }
   },
   "source": [
    "---\n",
    "\n",
    "## Compile and Evaluate a Binary Classification Model Using a Neural Network"
   ]
  },
  {
   "cell_type": "markdown",
   "metadata": {
    "pycharm": {
     "name": "#%% md\n"
    }
   },
   "source": [
    "### Step 1: Create a deep neural network by assigning the number of input features, the number of layers, and the number of neurons on each layer using Tensorflow’s Keras.\n",
    "\n",
    "> **Hint** You can start with a two-layer deep neural network model that uses the `relu` activation function for both layers.\n"
   ]
  },
  {
   "cell_type": "code",
   "execution_count": 15,
   "metadata": {
    "pycharm": {
     "name": "#%%\n"
    }
   },
   "outputs": [
    {
     "data": {
      "text/plain": "116"
     },
     "execution_count": 15,
     "metadata": {},
     "output_type": "execute_result"
    }
   ],
   "source": [
    "# Define the the number of inputs (features) to the model\n",
    "number_input_features = len(X.columns)\n",
    "\n",
    "# Review the number of features\n",
    "number_input_features"
   ]
  },
  {
   "cell_type": "code",
   "execution_count": 16,
   "metadata": {
    "pycharm": {
     "name": "#%%\n"
    }
   },
   "outputs": [],
   "source": [
    "# Define the number of neurons in the output layer\n",
    "number_output_neurons = 4"
   ]
  },
  {
   "cell_type": "code",
   "execution_count": 17,
   "metadata": {
    "pycharm": {
     "name": "#%%\n"
    }
   },
   "outputs": [
    {
     "data": {
      "text/plain": "15"
     },
     "execution_count": 17,
     "metadata": {},
     "output_type": "execute_result"
    }
   ],
   "source": [
    "# Define the number of hidden nodes for the first hidden layer\n",
    "hidden_nodes_layer1 =  15\n",
    "\n",
    "# Review the number hidden nodes in the first layer\n",
    "hidden_nodes_layer1"
   ]
  },
  {
   "cell_type": "code",
   "execution_count": 18,
   "metadata": {
    "pycharm": {
     "name": "#%%\n"
    }
   },
   "outputs": [
    {
     "data": {
      "text/plain": "8"
     },
     "execution_count": 18,
     "metadata": {},
     "output_type": "execute_result"
    }
   ],
   "source": [
    "# Define the number of hidden nodes for the second hidden layer\n",
    "hidden_nodes_layer2 =  8\n",
    "\n",
    "# Review the number hidden nodes in the second layer\n",
    "hidden_nodes_layer2"
   ]
  },
  {
   "cell_type": "code",
   "execution_count": 19,
   "metadata": {
    "pycharm": {
     "name": "#%%\n"
    }
   },
   "outputs": [
    {
     "name": "stderr",
     "output_type": "stream",
     "text": [
      "2022-09-16 21:51:09.333363: I tensorflow/core/platform/cpu_feature_guard.cc:193] This TensorFlow binary is optimized with oneAPI Deep Neural Network Library (oneDNN) to use the following CPU instructions in performance-critical operations:  AVX2 FMA\n",
      "To enable them in other operations, rebuild TensorFlow with the appropriate compiler flags.\n"
     ]
    }
   ],
   "source": [
    "# Create the Sequential model instance\n",
    "nn =Sequential()"
   ]
  },
  {
   "cell_type": "code",
   "execution_count": 20,
   "metadata": {
    "pycharm": {
     "name": "#%%\n"
    }
   },
   "outputs": [],
   "source": [
    "# Add the first hidden layer\n",
    "nn.add(Dense(units=hidden_nodes_layer1, input_dim=number_input_features, activation=\"relu\"))"
   ]
  },
  {
   "cell_type": "code",
   "execution_count": 21,
   "metadata": {
    "pycharm": {
     "name": "#%%\n"
    }
   },
   "outputs": [],
   "source": [
    "# Add the second hidden layer\n",
    "nn.add(Dense(units=hidden_nodes_layer2, activation=\"relu\"))"
   ]
  },
  {
   "cell_type": "code",
   "execution_count": 22,
   "metadata": {
    "pycharm": {
     "name": "#%%\n"
    }
   },
   "outputs": [],
   "source": [
    "# Add the output layer to the model specifying the number of output neurons and activation function\n",
    "nn.add(Dense(units=number_output_neurons, activation=\"linear\"))"
   ]
  },
  {
   "cell_type": "code",
   "execution_count": 23,
   "metadata": {
    "pycharm": {
     "name": "#%%\n"
    }
   },
   "outputs": [
    {
     "name": "stdout",
     "output_type": "stream",
     "text": [
      "Model: \"sequential\"\n",
      "_________________________________________________________________\n",
      " Layer (type)                Output Shape              Param #   \n",
      "=================================================================\n",
      " dense (Dense)               (None, 15)                1755      \n",
      "                                                                 \n",
      " dense_1 (Dense)             (None, 8)                 128       \n",
      "                                                                 \n",
      " dense_2 (Dense)             (None, 4)                 36        \n",
      "                                                                 \n",
      "=================================================================\n",
      "Total params: 1,919\n",
      "Trainable params: 1,919\n",
      "Non-trainable params: 0\n",
      "_________________________________________________________________\n"
     ]
    }
   ],
   "source": [
    "# Display the Sequential model summary\n",
    "nn.summary()"
   ]
  },
  {
   "cell_type": "markdown",
   "metadata": {
    "pycharm": {
     "name": "#%% md\n"
    }
   },
   "source": [
    "### Step 2: Compile and fit the model using the `binary_crossentropy` loss function, the `adam` optimizer, and the `accuracy` evaluation metric.\n"
   ]
  },
  {
   "cell_type": "code",
   "execution_count": 24,
   "metadata": {
    "pycharm": {
     "name": "#%%\n"
    }
   },
   "outputs": [],
   "source": [
    "# Compile the Sequential model\n",
    "nn.compile(loss=\"binary_crossentropy\", optimizer=\"adam\", metrics=[\"accuracy\"])"
   ]
  },
  {
   "cell_type": "code",
   "execution_count": 25,
   "metadata": {
    "pycharm": {
     "name": "#%%\n"
    }
   },
   "outputs": [
    {
     "name": "stdout",
     "output_type": "stream",
     "text": [
      "Epoch 1/50\n",
      "804/804 [==============================] - 2s 1ms/step - loss: 2.2859 - accuracy: 0.2575\n",
      "Epoch 2/50\n",
      "804/804 [==============================] - 1s 1ms/step - loss: 1.5758 - accuracy: 0.3387\n",
      "Epoch 3/50\n",
      "804/804 [==============================] - 1s 1ms/step - loss: 1.2659 - accuracy: 0.2600\n",
      "Epoch 4/50\n",
      "804/804 [==============================] - 1s 1ms/step - loss: 1.2196 - accuracy: 0.3166\n",
      "Epoch 5/50\n",
      "804/804 [==============================] - 1s 1ms/step - loss: 1.1410 - accuracy: 0.3884\n",
      "Epoch 6/50\n",
      "804/804 [==============================] - 1s 1ms/step - loss: 1.3278 - accuracy: 0.4389\n",
      "Epoch 7/50\n",
      "804/804 [==============================] - 1s 1ms/step - loss: 1.1335 - accuracy: 0.3469\n",
      "Epoch 8/50\n",
      "804/804 [==============================] - 1s 1ms/step - loss: 0.9531 - accuracy: 0.3669\n",
      "Epoch 9/50\n",
      "804/804 [==============================] - 1s 1ms/step - loss: 0.9124 - accuracy: 0.4059\n",
      "Epoch 10/50\n",
      "804/804 [==============================] - 1s 1ms/step - loss: 0.8977 - accuracy: 0.3475\n",
      "Epoch 11/50\n",
      "804/804 [==============================] - 1s 1ms/step - loss: 0.8918 - accuracy: 0.3302\n",
      "Epoch 12/50\n",
      "804/804 [==============================] - 1s 1ms/step - loss: 0.8655 - accuracy: 0.3686\n",
      "Epoch 13/50\n",
      "804/804 [==============================] - 1s 1ms/step - loss: 0.8597 - accuracy: 0.4036\n",
      "Epoch 14/50\n",
      "804/804 [==============================] - 1s 1ms/step - loss: 0.8601 - accuracy: 0.3322\n",
      "Epoch 15/50\n",
      "804/804 [==============================] - 1s 1ms/step - loss: 0.8286 - accuracy: 0.4676\n",
      "Epoch 16/50\n",
      "804/804 [==============================] - 1s 1ms/step - loss: 0.7841 - accuracy: 0.4314\n",
      "Epoch 17/50\n",
      "804/804 [==============================] - 1s 1ms/step - loss: 0.7439 - accuracy: 0.4533\n",
      "Epoch 18/50\n",
      "804/804 [==============================] - 1s 1ms/step - loss: 0.7440 - accuracy: 0.4198\n",
      "Epoch 19/50\n",
      "804/804 [==============================] - 1s 1ms/step - loss: 0.7358 - accuracy: 0.4341\n",
      "Epoch 20/50\n",
      "804/804 [==============================] - 1s 1ms/step - loss: 0.7305 - accuracy: 0.3651\n",
      "Epoch 21/50\n",
      "804/804 [==============================] - 1s 1ms/step - loss: 0.6921 - accuracy: 0.3189\n",
      "Epoch 22/50\n",
      "804/804 [==============================] - 1s 1ms/step - loss: 0.6432 - accuracy: 0.3845\n",
      "Epoch 23/50\n",
      "804/804 [==============================] - 1s 1ms/step - loss: 0.6332 - accuracy: 0.3984\n",
      "Epoch 24/50\n",
      "804/804 [==============================] - 1s 1ms/step - loss: 0.6252 - accuracy: 0.4188\n",
      "Epoch 25/50\n",
      "804/804 [==============================] - 1s 1ms/step - loss: 0.6146 - accuracy: 0.4177\n",
      "Epoch 26/50\n",
      "804/804 [==============================] - 1s 1ms/step - loss: 0.6093 - accuracy: 0.1836\n",
      "Epoch 27/50\n",
      "804/804 [==============================] - 1s 1ms/step - loss: 0.6012 - accuracy: 0.3275\n",
      "Epoch 28/50\n",
      "804/804 [==============================] - 1s 1ms/step - loss: 0.6006 - accuracy: 0.2860\n",
      "Epoch 29/50\n",
      "804/804 [==============================] - 1s 999us/step - loss: 0.5978 - accuracy: 0.3461\n",
      "Epoch 30/50\n",
      "804/804 [==============================] - 1s 1ms/step - loss: 0.5937 - accuracy: 0.3870\n",
      "Epoch 31/50\n",
      "804/804 [==============================] - 1s 1ms/step - loss: 0.5979 - accuracy: 0.4550\n",
      "Epoch 32/50\n",
      "804/804 [==============================] - 1s 991us/step - loss: 0.5994 - accuracy: 0.3651\n",
      "Epoch 33/50\n",
      "804/804 [==============================] - 1s 984us/step - loss: 0.5940 - accuracy: 0.2455\n",
      "Epoch 34/50\n",
      "804/804 [==============================] - 1s 1ms/step - loss: 0.5953 - accuracy: 0.1443\n",
      "Epoch 35/50\n",
      "804/804 [==============================] - 1s 1ms/step - loss: 0.5914 - accuracy: 0.1899\n",
      "Epoch 36/50\n",
      "804/804 [==============================] - 1s 948us/step - loss: 0.5934 - accuracy: 0.1603\n",
      "Epoch 37/50\n",
      "804/804 [==============================] - 1s 967us/step - loss: 0.5898 - accuracy: 0.3693\n",
      "Epoch 38/50\n",
      "804/804 [==============================] - 1s 963us/step - loss: 0.5922 - accuracy: 0.3637\n",
      "Epoch 39/50\n",
      "804/804 [==============================] - 1s 936us/step - loss: 0.5887 - accuracy: 0.3879\n",
      "Epoch 40/50\n",
      "804/804 [==============================] - 1s 962us/step - loss: 0.5859 - accuracy: 0.2711\n",
      "Epoch 41/50\n",
      "804/804 [==============================] - 1s 1ms/step - loss: 0.5859 - accuracy: 0.3886\n",
      "Epoch 42/50\n",
      "804/804 [==============================] - 1s 1ms/step - loss: 0.5819 - accuracy: 0.2372\n",
      "Epoch 43/50\n",
      "804/804 [==============================] - 1s 1ms/step - loss: 0.5854 - accuracy: 0.1365\n",
      "Epoch 44/50\n",
      "804/804 [==============================] - 1s 1ms/step - loss: 0.5810 - accuracy: 0.1707\n",
      "Epoch 45/50\n",
      "804/804 [==============================] - 1s 1ms/step - loss: 0.5846 - accuracy: 0.2419\n",
      "Epoch 46/50\n",
      "804/804 [==============================] - 1s 1ms/step - loss: 0.5802 - accuracy: 0.1623\n",
      "Epoch 47/50\n",
      "804/804 [==============================] - 1s 2ms/step - loss: 0.5838 - accuracy: 0.1718\n",
      "Epoch 48/50\n",
      "804/804 [==============================] - 1s 2ms/step - loss: 0.5794 - accuracy: 0.1297\n",
      "Epoch 49/50\n",
      "804/804 [==============================] - 1s 2ms/step - loss: 0.5794 - accuracy: 0.2639\n",
      "Epoch 50/50\n",
      "804/804 [==============================] - 1s 2ms/step - loss: 0.5802 - accuracy: 0.3287\n"
     ]
    },
    {
     "data": {
      "text/plain": "<keras.callbacks.History at 0x13b9d7a30>"
     },
     "execution_count": 25,
     "metadata": {},
     "output_type": "execute_result"
    }
   ],
   "source": [
    "# Fit the model using 50 epochs and the training data\n",
    "nn.fit(X_train_scaled, y_train, epochs=50)"
   ]
  },
  {
   "cell_type": "markdown",
   "metadata": {
    "pycharm": {
     "name": "#%% md\n"
    }
   },
   "source": [
    "### Step 3: Evaluate the model using the test data to determine the model’s loss and accuracy.\n"
   ]
  },
  {
   "cell_type": "code",
   "execution_count": 26,
   "metadata": {
    "pycharm": {
     "name": "#%%\n"
    }
   },
   "outputs": [
    {
     "name": "stdout",
     "output_type": "stream",
     "text": [
      "268/268 - 1s - loss: 0.5861 - accuracy: 0.5368 - 857ms/epoch - 3ms/step\n",
      "Loss: 0.5861401557922363, Accuracy: 0.5367929935455322\n"
     ]
    }
   ],
   "source": [
    "# Evaluate the model loss and accuracy metrics using the evaluate method and the test data\n",
    "model_loss, model_accuracy = nn.evaluate(X_test_scaled, y_test, verbose=2)\n",
    "\n",
    "# Display the model loss and accuracy results\n",
    "print(f\"Loss: {model_loss}, Accuracy: {model_accuracy}\")"
   ]
  },
  {
   "cell_type": "markdown",
   "metadata": {
    "pycharm": {
     "name": "#%% md\n"
    }
   },
   "source": [
    "### Step 4: Save and export your model to an HDF5 file, and name the file `AlphabetSoup.h5`. \n"
   ]
  },
  {
   "cell_type": "code",
   "execution_count": 27,
   "metadata": {
    "pycharm": {
     "name": "#%%\n"
    }
   },
   "outputs": [],
   "source": [
    "# Set the model's file path\n",
    "file_path = Path(\"/Users/AbhirMehra/Downloads/Columbia_Bootcamp/Challenges/Challenge 13/Resources/nn.h5\")\n",
    "\n",
    "\n",
    "# Export your model to a HDF5 file\n",
    "nn.save(file_path)"
   ]
  },
  {
   "cell_type": "markdown",
   "metadata": {
    "pycharm": {
     "name": "#%% md\n"
    }
   },
   "source": [
    "---\n",
    "\n",
    "## Optimize the neural network model\n"
   ]
  },
  {
   "cell_type": "markdown",
   "metadata": {
    "pycharm": {
     "name": "#%% md\n"
    }
   },
   "source": [
    "### Step 1: Define at least three new deep neural network models (resulting in the original plus 3 optimization attempts). With each, try to improve on your first model’s predictive accuracy.\n",
    "\n",
    "> **Rewind** Recall that perfect accuracy has a value of 1, so accuracy improves as its value moves closer to 1. To optimize your model for a predictive accuracy as close to 1 as possible, you can use any or all of the following techniques:\n",
    ">\n",
    "> * Adjust the input data by dropping different features columns to ensure that no variables or outliers confuse the model.\n",
    ">\n",
    "> * Add more neurons (nodes) to a hidden layer.\n",
    ">\n",
    "> * Add more hidden layers.\n",
    ">\n",
    "> * Use different activation functions for the hidden layers.\n",
    ">\n",
    "> * Add to or reduce the number of epochs in the training regimen.\n"
   ]
  },
  {
   "cell_type": "markdown",
   "metadata": {
    "pycharm": {
     "name": "#%% md\n"
    }
   },
   "source": [
    "### Alternative Model 1"
   ]
  },
  {
   "cell_type": "code",
   "execution_count": 28,
   "metadata": {
    "pycharm": {
     "name": "#%%\n"
    }
   },
   "outputs": [
    {
     "data": {
      "text/plain": "116"
     },
     "execution_count": 28,
     "metadata": {},
     "output_type": "execute_result"
    }
   ],
   "source": [
    "# Define the the number of inputs (features) to the model\n",
    "number_input_features = len(X_train.iloc[0])\n",
    "\n",
    "# Review the number of features\n",
    "number_input_features"
   ]
  },
  {
   "cell_type": "code",
   "execution_count": 29,
   "metadata": {
    "pycharm": {
     "name": "#%%\n"
    }
   },
   "outputs": [],
   "source": [
    "# Define the number of neurons in the output layer\n",
    "number_output_neurons_A1 = 5"
   ]
  },
  {
   "cell_type": "code",
   "execution_count": 30,
   "metadata": {
    "pycharm": {
     "name": "#%%\n"
    }
   },
   "outputs": [
    {
     "data": {
      "text/plain": "20"
     },
     "execution_count": 30,
     "metadata": {},
     "output_type": "execute_result"
    }
   ],
   "source": [
    "# Define the number of hidden nodes for the first hidden layer\n",
    "hidden_nodes_layer1_A1 = 20\n",
    "\n",
    "# Review the number of hidden nodes in the first layer\n",
    "hidden_nodes_layer1_A1"
   ]
  },
  {
   "cell_type": "code",
   "execution_count": 31,
   "metadata": {
    "pycharm": {
     "name": "#%%\n"
    }
   },
   "outputs": [],
   "source": [
    "# Create the Sequential model instance\n",
    "nn_A1 = Sequential()"
   ]
  },
  {
   "cell_type": "code",
   "execution_count": 32,
   "metadata": {
    "pycharm": {
     "name": "#%%\n"
    }
   },
   "outputs": [
    {
     "name": "stdout",
     "output_type": "stream",
     "text": [
      "Model: \"sequential_1\"\n",
      "_________________________________________________________________\n",
      " Layer (type)                Output Shape              Param #   \n",
      "=================================================================\n",
      " dense_3 (Dense)             (None, 20)                2340      \n",
      "                                                                 \n",
      " dense_4 (Dense)             (None, 5)                 105       \n",
      "                                                                 \n",
      "=================================================================\n",
      "Total params: 2,445\n",
      "Trainable params: 2,445\n",
      "Non-trainable params: 0\n",
      "_________________________________________________________________\n"
     ]
    }
   ],
   "source": [
    "# First hidden layer\n",
    "nn_A1.add(Dense(units=hidden_nodes_layer1_A1, input_dim=number_input_features, activation=\"sigmoid\"))\n",
    "\n",
    "# Output layer\n",
    "nn_A1.add(Dense(units=number_output_neurons_A1, activation=\"linear\"))\n",
    "\n",
    "# Check the structure of the model\n",
    "nn_A1.summary()"
   ]
  },
  {
   "cell_type": "code",
   "execution_count": 33,
   "metadata": {
    "pycharm": {
     "name": "#%%\n"
    }
   },
   "outputs": [],
   "source": [
    "# Compile the Sequential model\n",
    "nn_A1.compile(loss=\"binary_crossentropy\", optimizer=\"adam\", metrics=[\"accuracy\"])"
   ]
  },
  {
   "cell_type": "code",
   "execution_count": 34,
   "metadata": {
    "pycharm": {
     "name": "#%%\n"
    }
   },
   "outputs": [
    {
     "name": "stdout",
     "output_type": "stream",
     "text": [
      "Epoch 1/80\n",
      "804/804 [==============================] - 2s 2ms/step - loss: 2.9307 - accuracy: 0.1599\n",
      "Epoch 2/80\n",
      "804/804 [==============================] - 2s 2ms/step - loss: 0.6807 - accuracy: 0.1454\n",
      "Epoch 3/80\n",
      "804/804 [==============================] - 1s 2ms/step - loss: 0.6495 - accuracy: 0.2071\n",
      "Epoch 4/80\n",
      "804/804 [==============================] - 1s 1ms/step - loss: 0.6406 - accuracy: 0.1814\n",
      "Epoch 5/80\n",
      "804/804 [==============================] - 1s 2ms/step - loss: 0.6357 - accuracy: 0.1972\n",
      "Epoch 6/80\n",
      "804/804 [==============================] - 1s 2ms/step - loss: 0.6307 - accuracy: 0.1851\n",
      "Epoch 7/80\n",
      "804/804 [==============================] - 1s 2ms/step - loss: 0.6374 - accuracy: 0.1640\n",
      "Epoch 8/80\n",
      "804/804 [==============================] - 1s 2ms/step - loss: 0.6224 - accuracy: 0.2403\n",
      "Epoch 9/80\n",
      "804/804 [==============================] - 1s 2ms/step - loss: 0.6191 - accuracy: 0.3110\n",
      "Epoch 10/80\n",
      "804/804 [==============================] - 1s 1ms/step - loss: 0.6177 - accuracy: 0.2628\n",
      "Epoch 11/80\n",
      "804/804 [==============================] - 1s 1ms/step - loss: 0.6167 - accuracy: 0.2507\n",
      "Epoch 12/80\n",
      "804/804 [==============================] - 1s 1ms/step - loss: 0.6168 - accuracy: 0.2260\n",
      "Epoch 13/80\n",
      "804/804 [==============================] - 1s 1ms/step - loss: 0.6172 - accuracy: 0.2518\n",
      "Epoch 14/80\n",
      "804/804 [==============================] - 1s 1ms/step - loss: 0.6119 - accuracy: 0.1690\n",
      "Epoch 15/80\n",
      "804/804 [==============================] - 1s 1ms/step - loss: 0.6084 - accuracy: 0.1760\n",
      "Epoch 16/80\n",
      "804/804 [==============================] - 1s 1ms/step - loss: 0.6119 - accuracy: 0.2195\n",
      "Epoch 17/80\n",
      "804/804 [==============================] - 1s 1ms/step - loss: 0.6058 - accuracy: 0.1505\n",
      "Epoch 18/80\n",
      "804/804 [==============================] - 1s 1ms/step - loss: 0.5996 - accuracy: 0.1452\n",
      "Epoch 19/80\n",
      "804/804 [==============================] - 1s 1ms/step - loss: 0.5962 - accuracy: 0.1572\n",
      "Epoch 20/80\n",
      "804/804 [==============================] - 1s 1ms/step - loss: 0.5886 - accuracy: 0.1958\n",
      "Epoch 21/80\n",
      "804/804 [==============================] - 1s 1ms/step - loss: 0.6094 - accuracy: 0.2992\n",
      "Epoch 22/80\n",
      "804/804 [==============================] - 1s 1ms/step - loss: 0.5891 - accuracy: 0.3624\n",
      "Epoch 23/80\n",
      "804/804 [==============================] - 1s 2ms/step - loss: 0.5850 - accuracy: 0.3200\n",
      "Epoch 24/80\n",
      "804/804 [==============================] - 1s 1ms/step - loss: 0.5827 - accuracy: 0.2832\n",
      "Epoch 25/80\n",
      "804/804 [==============================] - 1s 1ms/step - loss: 0.5823 - accuracy: 0.2484\n",
      "Epoch 26/80\n",
      "804/804 [==============================] - 1s 1ms/step - loss: 0.5773 - accuracy: 0.2458\n",
      "Epoch 27/80\n",
      "804/804 [==============================] - 1s 2ms/step - loss: 0.5799 - accuracy: 0.1981\n",
      "Epoch 28/80\n",
      "804/804 [==============================] - 1s 1ms/step - loss: 0.5751 - accuracy: 0.1981\n",
      "Epoch 29/80\n",
      "804/804 [==============================] - 1s 2ms/step - loss: 0.5727 - accuracy: 0.1896\n",
      "Epoch 30/80\n",
      "804/804 [==============================] - 1s 1ms/step - loss: 0.5732 - accuracy: 0.2357\n",
      "Epoch 31/80\n",
      "804/804 [==============================] - 1s 2ms/step - loss: 0.5698 - accuracy: 0.2203\n",
      "Epoch 32/80\n",
      "804/804 [==============================] - 1s 1ms/step - loss: 0.5713 - accuracy: 0.2734\n",
      "Epoch 33/80\n",
      "804/804 [==============================] - 1s 1ms/step - loss: 0.5681 - accuracy: 0.1593\n",
      "Epoch 34/80\n",
      "804/804 [==============================] - 1s 1ms/step - loss: 0.6954 - accuracy: 0.3476\n",
      "Epoch 35/80\n",
      "804/804 [==============================] - 1s 1ms/step - loss: 0.7411 - accuracy: 0.5087\n",
      "Epoch 36/80\n",
      "804/804 [==============================] - 1s 1ms/step - loss: 0.6127 - accuracy: 0.3704\n",
      "Epoch 37/80\n",
      "804/804 [==============================] - 1s 1ms/step - loss: 0.5723 - accuracy: 0.2396\n",
      "Epoch 38/80\n",
      "804/804 [==============================] - 1s 1ms/step - loss: 0.5693 - accuracy: 0.1721\n",
      "Epoch 39/80\n",
      "804/804 [==============================] - 1s 1ms/step - loss: 0.5650 - accuracy: 0.1529\n",
      "Epoch 40/80\n",
      "804/804 [==============================] - 1s 1ms/step - loss: 0.5608 - accuracy: 0.1666\n",
      "Epoch 41/80\n",
      "804/804 [==============================] - 1s 1ms/step - loss: 0.5614 - accuracy: 0.1862\n",
      "Epoch 42/80\n",
      "804/804 [==============================] - 1s 1ms/step - loss: 0.5601 - accuracy: 0.1821\n",
      "Epoch 43/80\n",
      "804/804 [==============================] - 1s 1ms/step - loss: 0.5577 - accuracy: 0.1693\n",
      "Epoch 44/80\n",
      "804/804 [==============================] - 1s 1ms/step - loss: 0.5557 - accuracy: 0.1807\n",
      "Epoch 45/80\n",
      "804/804 [==============================] - 1s 1ms/step - loss: 0.5556 - accuracy: 0.2269\n",
      "Epoch 46/80\n",
      "804/804 [==============================] - 1s 1ms/step - loss: 0.5548 - accuracy: 0.2153\n",
      "Epoch 47/80\n",
      "804/804 [==============================] - 1s 1ms/step - loss: 0.5570 - accuracy: 0.1919\n",
      "Epoch 48/80\n",
      "804/804 [==============================] - 1s 1ms/step - loss: 0.5569 - accuracy: 0.1846\n",
      "Epoch 49/80\n",
      "804/804 [==============================] - 1s 1ms/step - loss: 0.5513 - accuracy: 0.1445\n",
      "Epoch 50/80\n",
      "804/804 [==============================] - 1s 1ms/step - loss: 0.5519 - accuracy: 0.1670\n",
      "Epoch 51/80\n",
      "804/804 [==============================] - 1s 1ms/step - loss: 0.5524 - accuracy: 0.1597\n",
      "Epoch 52/80\n",
      "804/804 [==============================] - 1s 1ms/step - loss: 0.5504 - accuracy: 0.1507\n",
      "Epoch 53/80\n",
      "804/804 [==============================] - 1s 1ms/step - loss: 0.5521 - accuracy: 0.1735\n",
      "Epoch 54/80\n",
      "804/804 [==============================] - 1s 1ms/step - loss: 0.5527 - accuracy: 0.1919\n",
      "Epoch 55/80\n",
      "804/804 [==============================] - 1s 1ms/step - loss: 0.5547 - accuracy: 0.1878\n",
      "Epoch 56/80\n",
      "804/804 [==============================] - 1s 1ms/step - loss: 0.5561 - accuracy: 0.1660\n",
      "Epoch 57/80\n",
      "804/804 [==============================] - 1s 1ms/step - loss: 0.5525 - accuracy: 0.1688\n",
      "Epoch 58/80\n",
      "804/804 [==============================] - 1s 1ms/step - loss: 0.5488 - accuracy: 0.1553\n",
      "Epoch 59/80\n",
      "804/804 [==============================] - 1s 2ms/step - loss: 0.5598 - accuracy: 0.1896\n",
      "Epoch 60/80\n",
      "804/804 [==============================] - 1s 1ms/step - loss: 0.5795 - accuracy: 0.2463\n",
      "Epoch 61/80\n",
      "804/804 [==============================] - 1s 1ms/step - loss: 0.5793 - accuracy: 0.2262\n",
      "Epoch 62/80\n",
      "804/804 [==============================] - 1s 1ms/step - loss: 0.5711 - accuracy: 0.2209\n",
      "Epoch 63/80\n",
      "804/804 [==============================] - 1s 1ms/step - loss: 0.5631 - accuracy: 0.2762\n",
      "Epoch 64/80\n",
      "804/804 [==============================] - 1s 1ms/step - loss: 0.5595 - accuracy: 0.3144\n",
      "Epoch 65/80\n",
      "804/804 [==============================] - 1s 1ms/step - loss: 0.5558 - accuracy: 0.2961\n",
      "Epoch 66/80\n",
      "804/804 [==============================] - 1s 1ms/step - loss: 0.5524 - accuracy: 0.2911\n",
      "Epoch 67/80\n",
      "804/804 [==============================] - 1s 1ms/step - loss: 0.5515 - accuracy: 0.3207\n",
      "Epoch 68/80\n",
      "804/804 [==============================] - 1s 1ms/step - loss: 0.5497 - accuracy: 0.2957\n",
      "Epoch 69/80\n",
      "804/804 [==============================] - 1s 1ms/step - loss: 0.5495 - accuracy: 0.2166\n",
      "Epoch 70/80\n",
      "804/804 [==============================] - 1s 1ms/step - loss: 0.5482 - accuracy: 0.2231\n",
      "Epoch 71/80\n",
      "804/804 [==============================] - 1s 1ms/step - loss: 0.5508 - accuracy: 0.1885\n",
      "Epoch 72/80\n",
      "804/804 [==============================] - 1s 1ms/step - loss: 0.5488 - accuracy: 0.1883\n",
      "Epoch 73/80\n",
      "804/804 [==============================] - 1s 1ms/step - loss: 0.5544 - accuracy: 0.2098\n",
      "Epoch 74/80\n",
      "804/804 [==============================] - 1s 1ms/step - loss: 0.5487 - accuracy: 0.2068\n",
      "Epoch 75/80\n",
      "804/804 [==============================] - 1s 1ms/step - loss: 0.5472 - accuracy: 0.2016\n",
      "Epoch 76/80\n",
      "804/804 [==============================] - 1s 1ms/step - loss: 0.5499 - accuracy: 0.1817\n",
      "Epoch 77/80\n",
      "804/804 [==============================] - 1s 1ms/step - loss: 0.5496 - accuracy: 0.2043\n",
      "Epoch 78/80\n",
      "804/804 [==============================] - 1s 1ms/step - loss: 0.5489 - accuracy: 0.2018\n",
      "Epoch 79/80\n",
      "804/804 [==============================] - 1s 1ms/step - loss: 0.5510 - accuracy: 0.2208\n",
      "Epoch 80/80\n",
      "804/804 [==============================] - 1s 1ms/step - loss: 0.5473 - accuracy: 0.1523\n"
     ]
    }
   ],
   "source": [
    "# Fit the model using 50 epochs and the training data\n",
    "fit_model_A1 = nn_A1.fit(X_train_scaled, y_train, epochs=80)"
   ]
  },
  {
   "cell_type": "markdown",
   "metadata": {
    "pycharm": {
     "name": "#%% md\n"
    }
   },
   "source": [
    "#### Alternative Model 2"
   ]
  },
  {
   "cell_type": "code",
   "execution_count": 35,
   "metadata": {
    "pycharm": {
     "name": "#%%\n"
    }
   },
   "outputs": [
    {
     "data": {
      "text/plain": "116"
     },
     "execution_count": 35,
     "metadata": {},
     "output_type": "execute_result"
    }
   ],
   "source": [
    "# Define the the number of inputs (features) to the model\n",
    "number_input_features = len(X_train.iloc[0])\n",
    "\n",
    "# Review the number of features\n",
    "number_input_features"
   ]
  },
  {
   "cell_type": "code",
   "execution_count": 36,
   "metadata": {
    "pycharm": {
     "name": "#%%\n"
    }
   },
   "outputs": [],
   "source": [
    "# Define the number of neurons in the output layer\n",
    "number_output_neurons_A2 = 10"
   ]
  },
  {
   "cell_type": "code",
   "execution_count": 37,
   "metadata": {
    "pycharm": {
     "name": "#%%\n"
    }
   },
   "outputs": [
    {
     "data": {
      "text/plain": "25"
     },
     "execution_count": 37,
     "metadata": {},
     "output_type": "execute_result"
    }
   ],
   "source": [
    "# Define the number of hidden nodes for the first hidden layer\n",
    "hidden_nodes_layer1_A2 = 25\n",
    "\n",
    "# Review the number of hidden nodes in the first layer\n",
    "hidden_nodes_layer1_A2"
   ]
  },
  {
   "cell_type": "code",
   "execution_count": 38,
   "metadata": {
    "pycharm": {
     "name": "#%%\n"
    }
   },
   "outputs": [],
   "source": [
    "# Create the Sequential model instance\n",
    "nn_A2 = Sequential()"
   ]
  },
  {
   "cell_type": "code",
   "execution_count": 39,
   "metadata": {
    "pycharm": {
     "name": "#%%\n"
    }
   },
   "outputs": [
    {
     "name": "stdout",
     "output_type": "stream",
     "text": [
      "Model: \"sequential_2\"\n",
      "_________________________________________________________________\n",
      " Layer (type)                Output Shape              Param #   \n",
      "=================================================================\n",
      " dense_5 (Dense)             (None, 25)                2925      \n",
      "                                                                 \n",
      " dense_6 (Dense)             (None, 10)                260       \n",
      "                                                                 \n",
      "=================================================================\n",
      "Total params: 3,185\n",
      "Trainable params: 3,185\n",
      "Non-trainable params: 0\n",
      "_________________________________________________________________\n"
     ]
    }
   ],
   "source": [
    "# First hidden layer\n",
    "nn_A2.add(Dense(units=hidden_nodes_layer1_A2, input_dim=number_input_features, activation=\"softmax\"))\n",
    "\n",
    "# Output layer\n",
    "nn_A2.add(Dense(units=number_output_neurons_A2, activation=\"linear\"))\n",
    "\n",
    "# Check the structure of the model\n",
    "nn_A2.summary()"
   ]
  },
  {
   "cell_type": "code",
   "execution_count": 40,
   "metadata": {
    "pycharm": {
     "name": "#%%\n"
    }
   },
   "outputs": [],
   "source": [
    "# Compile the model\n",
    "nn_A2.compile(loss=\"binary_crossentropy\", optimizer=\"adam\", metrics=[\"accuracy\"])"
   ]
  },
  {
   "cell_type": "code",
   "execution_count": 41,
   "metadata": {
    "pycharm": {
     "name": "#%%\n"
    }
   },
   "outputs": [
    {
     "name": "stdout",
     "output_type": "stream",
     "text": [
      "Epoch 1/30\n",
      "804/804 [==============================] - 2s 2ms/step - loss: 1.1910 - accuracy: 0.0108\n",
      "Epoch 2/30\n",
      "804/804 [==============================] - 1s 1ms/step - loss: 0.7470 - accuracy: 0.0044\n",
      "Epoch 3/30\n",
      "804/804 [==============================] - 1s 2ms/step - loss: 0.6347 - accuracy: 0.0307\n",
      "Epoch 4/30\n",
      "804/804 [==============================] - 1s 2ms/step - loss: 0.5980 - accuracy: 0.0155\n",
      "Epoch 5/30\n",
      "804/804 [==============================] - 1s 2ms/step - loss: 0.5800 - accuracy: 0.0188\n",
      "Epoch 6/30\n",
      "804/804 [==============================] - 1s 2ms/step - loss: 0.5702 - accuracy: 0.0377\n",
      "Epoch 7/30\n",
      "804/804 [==============================] - 1s 2ms/step - loss: 0.5648 - accuracy: 0.0924\n",
      "Epoch 8/30\n",
      "804/804 [==============================] - 1s 1ms/step - loss: 0.5612 - accuracy: 0.1413\n",
      "Epoch 9/30\n",
      "804/804 [==============================] - 1s 1ms/step - loss: 0.5586 - accuracy: 0.1216\n",
      "Epoch 10/30\n",
      "804/804 [==============================] - 1s 1ms/step - loss: 0.5560 - accuracy: 0.0546\n",
      "Epoch 11/30\n",
      "804/804 [==============================] - 1s 2ms/step - loss: 0.5539 - accuracy: 0.0464\n",
      "Epoch 12/30\n",
      "804/804 [==============================] - 1s 1ms/step - loss: 0.5517 - accuracy: 0.0396\n",
      "Epoch 13/30\n",
      "804/804 [==============================] - 1s 1ms/step - loss: 0.5502 - accuracy: 0.0443\n",
      "Epoch 14/30\n",
      "804/804 [==============================] - 1s 1ms/step - loss: 0.5493 - accuracy: 0.0376\n",
      "Epoch 15/30\n",
      "804/804 [==============================] - 1s 1ms/step - loss: 0.5470 - accuracy: 0.0528\n",
      "Epoch 16/30\n",
      "804/804 [==============================] - 1s 1ms/step - loss: 0.5461 - accuracy: 0.0749\n",
      "Epoch 17/30\n",
      "804/804 [==============================] - 1s 1ms/step - loss: 0.5457 - accuracy: 0.0402\n",
      "Epoch 18/30\n",
      "804/804 [==============================] - 1s 1ms/step - loss: 0.5452 - accuracy: 0.0576\n",
      "Epoch 19/30\n",
      "804/804 [==============================] - 1s 1ms/step - loss: 0.5442 - accuracy: 0.0776\n",
      "Epoch 20/30\n",
      "804/804 [==============================] - 1s 1ms/step - loss: 0.5430 - accuracy: 0.1196\n",
      "Epoch 21/30\n",
      "804/804 [==============================] - 1s 1ms/step - loss: 0.5435 - accuracy: 0.1090\n",
      "Epoch 22/30\n",
      "804/804 [==============================] - 1s 1ms/step - loss: 0.5432 - accuracy: 0.0433\n",
      "Epoch 23/30\n",
      "804/804 [==============================] - 1s 1ms/step - loss: 0.5420 - accuracy: 0.0859\n",
      "Epoch 24/30\n",
      "804/804 [==============================] - 1s 1ms/step - loss: 0.5414 - accuracy: 0.1164\n",
      "Epoch 25/30\n",
      "804/804 [==============================] - 1s 1ms/step - loss: 0.5417 - accuracy: 0.2919\n",
      "Epoch 26/30\n",
      "804/804 [==============================] - 1s 1ms/step - loss: 0.5401 - accuracy: 0.1448\n",
      "Epoch 27/30\n",
      "804/804 [==============================] - 1s 1ms/step - loss: 0.5395 - accuracy: 0.1307\n",
      "Epoch 28/30\n",
      "804/804 [==============================] - 1s 1ms/step - loss: 0.5393 - accuracy: 0.1754\n",
      "Epoch 29/30\n",
      "804/804 [==============================] - 1s 2ms/step - loss: 0.5391 - accuracy: 0.1510\n",
      "Epoch 30/30\n",
      "804/804 [==============================] - 1s 2ms/step - loss: 0.5386 - accuracy: 0.1454\n"
     ]
    }
   ],
   "source": [
    "# Fit the model\n",
    "fit_model_A2 = nn_A2.fit(X_train_scaled, y_train, epochs=30)"
   ]
  },
  {
   "cell_type": "markdown",
   "metadata": {
    "pycharm": {
     "name": "#%% md\n"
    }
   },
   "source": [
    "### Step 2: After finishing your models, display the accuracy scores achieved by each model, and compare the results."
   ]
  },
  {
   "cell_type": "code",
   "execution_count": 42,
   "metadata": {
    "pycharm": {
     "name": "#%%\n"
    }
   },
   "outputs": [
    {
     "name": "stdout",
     "output_type": "stream",
     "text": [
      "Original Model Results\n",
      "268/268 - 0s - loss: 0.5861 - accuracy: 0.5368 - 285ms/epoch - 1ms/step\n",
      "Loss: 0.5861401557922363, Accuracy: 0.5367929935455322\n"
     ]
    }
   ],
   "source": [
    "print(\"Original Model Results\")\n",
    "\n",
    "# Evaluate the model loss and accuracy metrics using the evaluate method and the test data\n",
    "model_loss, model_accuracy = nn.evaluate(X_test_scaled, y_test, verbose=2)\n",
    "\n",
    "# Display the model loss and accuracy results\n",
    "print(f\"Loss: {model_loss}, Accuracy: {model_accuracy}\")"
   ]
  },
  {
   "cell_type": "code",
   "execution_count": 43,
   "metadata": {
    "pycharm": {
     "name": "#%%\n"
    }
   },
   "outputs": [
    {
     "name": "stdout",
     "output_type": "stream",
     "text": [
      "Alternative Model 1 Results\n",
      "268/268 - 0s - loss: 0.5609 - accuracy: 0.1848 - 405ms/epoch - 2ms/step\n",
      "Loss: 0.5609496235847473, Accuracy: 0.1848396509885788\n"
     ]
    }
   ],
   "source": [
    "print(\"Alternative Model 1 Results\")\n",
    "\n",
    "# Evaluate the model loss and accuracy metrics using the evaluate method and the test data\n",
    "model_loss, model_accuracy =nn_A1.evaluate(X_test_scaled, y_test, verbose=2)\n",
    "\n",
    "# Display the model loss and accuracy results\n",
    "print(f\"Loss: {model_loss}, Accuracy: {model_accuracy}\")"
   ]
  },
  {
   "cell_type": "code",
   "execution_count": 44,
   "metadata": {
    "pycharm": {
     "name": "#%%\n"
    }
   },
   "outputs": [
    {
     "name": "stdout",
     "output_type": "stream",
     "text": [
      "Alternative Model 2 Results\n",
      "268/268 - 0s - loss: 0.5534 - accuracy: 0.1755 - 468ms/epoch - 2ms/step\n",
      "Loss: 0.5534114241600037, Accuracy: 0.1755101978778839\n"
     ]
    }
   ],
   "source": [
    "print(\"Alternative Model 2 Results\")\n",
    "\n",
    "# Evaluate the model loss and accuracy metrics using the evaluate method and the test data\n",
    "model_loss, model_accuracy = nn_A2.evaluate(X_test_scaled, y_test, verbose=2)\n",
    "\n",
    "# Display the model loss and accuracy results\n",
    "print(f\"Loss: {model_loss}, Accuracy: {model_accuracy}\")"
   ]
  },
  {
   "cell_type": "markdown",
   "metadata": {
    "pycharm": {
     "name": "#%% md\n"
    }
   },
   "source": [
    "### Step 3: Save each of your alternative models as an HDF5 file.\n"
   ]
  },
  {
   "cell_type": "code",
   "execution_count": 45,
   "metadata": {
    "pycharm": {
     "name": "#%%\n"
    }
   },
   "outputs": [],
   "source": [
    "# Set the file path for the first alternative model\n",
    "file_path2 = Path(\"/Users/AbhirMehra/Downloads/Columbia_Bootcamp/Challenges/Challenge 13/Resources/nn_1.h5\")\n",
    "\n",
    "# Export your model to a HDF5 file\n",
    "nn_A1.save(file_path2)"
   ]
  },
  {
   "cell_type": "code",
   "execution_count": 46,
   "outputs": [],
   "source": [
    "# Set the file path for the second alternative model\n",
    "file_path3 = Path(\"/Users/AbhirMehra/Downloads/Columbia_Bootcamp/Challenges/Challenge 13/Resources/nn_2.h5\")\n",
    "\n",
    "# Export your model to a HDF5 file\n",
    "nn_A1.save(file_path3)"
   ],
   "metadata": {
    "collapsed": false,
    "pycharm": {
     "name": "#%%\n"
    }
   }
  },
  {
   "cell_type": "code",
   "execution_count": null,
   "outputs": [],
   "source": [],
   "metadata": {
    "collapsed": false,
    "pycharm": {
     "name": "#%%\n"
    }
   }
  }
 ],
 "metadata": {
  "kernelspec": {
   "display_name": "Python 3",
   "language": "python",
   "name": "python3"
  },
  "language_info": {
   "codemirror_mode": {
    "name": "ipython",
    "version": 3
   },
   "file_extension": ".py",
   "mimetype": "text/x-python",
   "name": "python",
   "nbconvert_exporter": "python",
   "pygments_lexer": "ipython3",
   "version": "3.7.7"
  }
 },
 "nbformat": 4,
 "nbformat_minor": 4
}